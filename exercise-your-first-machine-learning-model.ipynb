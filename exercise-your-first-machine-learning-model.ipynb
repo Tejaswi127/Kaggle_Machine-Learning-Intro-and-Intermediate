{
 "cells": [
  {
   "cell_type": "markdown",
   "id": "629e3866",
   "metadata": {
    "papermill": {
     "duration": 0.006673,
     "end_time": "2022-07-02T09:59:56.764822",
     "exception": false,
     "start_time": "2022-07-02T09:59:56.758149",
     "status": "completed"
    },
    "tags": []
   },
   "source": [
    "**This notebook is an exercise in the [Introduction to Machine Learning](https://www.kaggle.com/learn/intro-to-machine-learning) course.  You can reference the tutorial at [this link](https://www.kaggle.com/dansbecker/your-first-machine-learning-model).**\n",
    "\n",
    "---\n"
   ]
  },
  {
   "cell_type": "markdown",
   "id": "1d730c34",
   "metadata": {
    "papermill": {
     "duration": 0.005363,
     "end_time": "2022-07-02T09:59:56.776159",
     "exception": false,
     "start_time": "2022-07-02T09:59:56.770796",
     "status": "completed"
    },
    "tags": []
   },
   "source": [
    "## Recap\n",
    "So far, you have loaded your data and reviewed it with the following code. Run this cell to set up your coding environment where the previous step left off."
   ]
  },
  {
   "cell_type": "code",
   "execution_count": 1,
   "id": "57f3d178",
   "metadata": {
    "execution": {
     "iopub.execute_input": "2022-07-02T09:59:56.789317Z",
     "iopub.status.busy": "2022-07-02T09:59:56.788885Z",
     "iopub.status.idle": "2022-07-02T09:59:58.097093Z",
     "shell.execute_reply": "2022-07-02T09:59:58.095889Z"
    },
    "papermill": {
     "duration": 1.317902,
     "end_time": "2022-07-02T09:59:58.099634",
     "exception": false,
     "start_time": "2022-07-02T09:59:56.781732",
     "status": "completed"
    },
    "tags": []
   },
   "outputs": [
    {
     "name": "stdout",
     "output_type": "stream",
     "text": [
      "Setup Complete\n"
     ]
    }
   ],
   "source": [
    "# Code you have previously used to load data\n",
    "import pandas as pd\n",
    "\n",
    "# Path of the file to read\n",
    "iowa_file_path = '../input/home-data-for-ml-course/train.csv'\n",
    "\n",
    "home_data = pd.read_csv(iowa_file_path)\n",
    "\n",
    "# Set up code checking\n",
    "from learntools.core import binder\n",
    "binder.bind(globals())\n",
    "from learntools.machine_learning.ex3 import *\n",
    "\n",
    "print(\"Setup Complete\")"
   ]
  },
  {
   "cell_type": "markdown",
   "id": "dc0a31ac",
   "metadata": {
    "papermill": {
     "duration": 0.005665,
     "end_time": "2022-07-02T09:59:58.111140",
     "exception": false,
     "start_time": "2022-07-02T09:59:58.105475",
     "status": "completed"
    },
    "tags": []
   },
   "source": [
    "# Exercises\n",
    "\n",
    "## Step 1: Specify Prediction Target\n",
    "Select the target variable, which corresponds to the sales price. Save this to a new variable called `y`. You'll need to print a list of the columns to find the name of the column you need.\n"
   ]
  },
  {
   "cell_type": "code",
   "execution_count": 2,
   "id": "5f75216e",
   "metadata": {
    "execution": {
     "iopub.execute_input": "2022-07-02T09:59:58.124788Z",
     "iopub.status.busy": "2022-07-02T09:59:58.123931Z",
     "iopub.status.idle": "2022-07-02T09:59:58.129405Z",
     "shell.execute_reply": "2022-07-02T09:59:58.128318Z"
    },
    "papermill": {
     "duration": 0.014954,
     "end_time": "2022-07-02T09:59:58.131832",
     "exception": false,
     "start_time": "2022-07-02T09:59:58.116878",
     "status": "completed"
    },
    "tags": []
   },
   "outputs": [],
   "source": [
    "# print the list of columns in the dataset to find the name of the prediction target\n"
   ]
  },
  {
   "cell_type": "code",
   "execution_count": 3,
   "id": "4447b867",
   "metadata": {
    "execution": {
     "iopub.execute_input": "2022-07-02T09:59:58.145482Z",
     "iopub.status.busy": "2022-07-02T09:59:58.144720Z",
     "iopub.status.idle": "2022-07-02T09:59:58.159047Z",
     "shell.execute_reply": "2022-07-02T09:59:58.158040Z"
    },
    "papermill": {
     "duration": 0.023648,
     "end_time": "2022-07-02T09:59:58.161217",
     "exception": false,
     "start_time": "2022-07-02T09:59:58.137569",
     "status": "completed"
    },
    "tags": []
   },
   "outputs": [
    {
     "data": {
      "application/javascript": [
       "parent.postMessage({\"jupyterEvent\": \"custom.exercise_interaction\", \"data\": {\"outcomeType\": 1, \"valueTowardsCompletion\": 0.25, \"interactionType\": 1, \"questionType\": 2, \"questionId\": \"1_SetTarget\", \"learnToolsVersion\": \"0.3.4\", \"failureMessage\": \"\", \"exceptionClass\": \"\", \"trace\": \"\"}}, \"*\")"
      ],
      "text/plain": [
       "<IPython.core.display.Javascript object>"
      ]
     },
     "metadata": {},
     "output_type": "display_data"
    },
    {
     "data": {
      "text/markdown": [
       "<span style=\"color:#33cc33\">Correct</span>"
      ],
      "text/plain": [
       "Correct"
      ]
     },
     "metadata": {},
     "output_type": "display_data"
    }
   ],
   "source": [
    "y = home_data.SalePrice\n",
    "\n",
    "# Check your answer\n",
    "step_1.check()"
   ]
  },
  {
   "cell_type": "code",
   "execution_count": 4,
   "id": "1f19431e",
   "metadata": {
    "execution": {
     "iopub.execute_input": "2022-07-02T09:59:58.174864Z",
     "iopub.status.busy": "2022-07-02T09:59:58.174140Z",
     "iopub.status.idle": "2022-07-02T09:59:58.178509Z",
     "shell.execute_reply": "2022-07-02T09:59:58.177751Z"
    },
    "papermill": {
     "duration": 0.013596,
     "end_time": "2022-07-02T09:59:58.180630",
     "exception": false,
     "start_time": "2022-07-02T09:59:58.167034",
     "status": "completed"
    },
    "tags": []
   },
   "outputs": [],
   "source": [
    "# The lines below will show you a hint or the solution.\n",
    "# step_1.hint() \n",
    "#step_1.solution()"
   ]
  },
  {
   "cell_type": "markdown",
   "id": "6fc5808b",
   "metadata": {
    "papermill": {
     "duration": 0.005477,
     "end_time": "2022-07-02T09:59:58.191887",
     "exception": false,
     "start_time": "2022-07-02T09:59:58.186410",
     "status": "completed"
    },
    "tags": []
   },
   "source": [
    "## Step 2: Create X\n",
    "Now you will create a DataFrame called `X` holding the predictive features.\n",
    "\n",
    "Since you want only some columns from the original data, you'll first create a list with the names of the columns you want in `X`.\n",
    "\n",
    "You'll use just the following columns in the list (you can copy and paste the whole list to save some typing, though you'll still need to add quotes):\n",
    "  * LotArea\n",
    "  * YearBuilt\n",
    "  * 1stFlrSF\n",
    "  * 2ndFlrSF\n",
    "  * FullBath\n",
    "  * BedroomAbvGr\n",
    "  * TotRmsAbvGrd\n",
    "\n",
    "After you've created that list of features, use it to create the DataFrame that you'll use to fit the model."
   ]
  },
  {
   "cell_type": "code",
   "execution_count": 5,
   "id": "30256b71",
   "metadata": {
    "execution": {
     "iopub.execute_input": "2022-07-02T09:59:58.205796Z",
     "iopub.status.busy": "2022-07-02T09:59:58.205074Z",
     "iopub.status.idle": "2022-07-02T09:59:58.220219Z",
     "shell.execute_reply": "2022-07-02T09:59:58.219322Z"
    },
    "papermill": {
     "duration": 0.024501,
     "end_time": "2022-07-02T09:59:58.222185",
     "exception": false,
     "start_time": "2022-07-02T09:59:58.197684",
     "status": "completed"
    },
    "tags": []
   },
   "outputs": [
    {
     "data": {
      "application/javascript": [
       "parent.postMessage({\"jupyterEvent\": \"custom.exercise_interaction\", \"data\": {\"outcomeType\": 1, \"valueTowardsCompletion\": 0.25, \"interactionType\": 1, \"questionType\": 2, \"questionId\": \"2_SelectPredictionData\", \"learnToolsVersion\": \"0.3.4\", \"failureMessage\": \"\", \"exceptionClass\": \"\", \"trace\": \"\"}}, \"*\")"
      ],
      "text/plain": [
       "<IPython.core.display.Javascript object>"
      ]
     },
     "metadata": {},
     "output_type": "display_data"
    },
    {
     "data": {
      "text/markdown": [
       "<span style=\"color:#33cc33\">Correct</span>"
      ],
      "text/plain": [
       "Correct"
      ]
     },
     "metadata": {},
     "output_type": "display_data"
    }
   ],
   "source": [
    "# Create the list of features below\n",
    "feature_names = [\"LotArea\", \"YearBuilt\", \"1stFlrSF\", \"2ndFlrSF\",\n",
    "                      \"FullBath\", \"BedroomAbvGr\", \"TotRmsAbvGrd\"]\n",
    "\n",
    "\n",
    "\n",
    "# Select data corresponding to features in feature_names\n",
    "X=home_data[feature_names]\n",
    "\n",
    "# Check your answer\n",
    "step_2.check()"
   ]
  },
  {
   "cell_type": "code",
   "execution_count": 6,
   "id": "24c357a4",
   "metadata": {
    "execution": {
     "iopub.execute_input": "2022-07-02T09:59:58.236612Z",
     "iopub.status.busy": "2022-07-02T09:59:58.236191Z",
     "iopub.status.idle": "2022-07-02T09:59:58.239964Z",
     "shell.execute_reply": "2022-07-02T09:59:58.239148Z"
    },
    "papermill": {
     "duration": 0.013215,
     "end_time": "2022-07-02T09:59:58.241832",
     "exception": false,
     "start_time": "2022-07-02T09:59:58.228617",
     "status": "completed"
    },
    "tags": []
   },
   "outputs": [],
   "source": [
    "# step_2.hint()\n",
    "#step_2.solution()"
   ]
  },
  {
   "cell_type": "markdown",
   "id": "fcfe2953",
   "metadata": {
    "papermill": {
     "duration": 0.006055,
     "end_time": "2022-07-02T09:59:58.254055",
     "exception": false,
     "start_time": "2022-07-02T09:59:58.248000",
     "status": "completed"
    },
    "tags": []
   },
   "source": [
    "## Review Data\n",
    "Before building a model, take a quick look at **X** to verify it looks sensible"
   ]
  },
  {
   "cell_type": "code",
   "execution_count": 7,
   "id": "36da350d",
   "metadata": {
    "collapsed": true,
    "execution": {
     "iopub.execute_input": "2022-07-02T09:59:58.268846Z",
     "iopub.status.busy": "2022-07-02T09:59:58.267875Z",
     "iopub.status.idle": "2022-07-02T09:59:58.272072Z",
     "shell.execute_reply": "2022-07-02T09:59:58.271112Z"
    },
    "jupyter": {
     "outputs_hidden": true
    },
    "papermill": {
     "duration": 0.013711,
     "end_time": "2022-07-02T09:59:58.274061",
     "exception": false,
     "start_time": "2022-07-02T09:59:58.260350",
     "status": "completed"
    },
    "tags": []
   },
   "outputs": [],
   "source": [
    "# Review data\n",
    "# print description or statistics from X\n",
    "#print(_)\n",
    "\n",
    "# print the top few lines\n",
    "#print(_)"
   ]
  },
  {
   "cell_type": "markdown",
   "id": "31962513",
   "metadata": {
    "papermill": {
     "duration": 0.006014,
     "end_time": "2022-07-02T09:59:58.286355",
     "exception": false,
     "start_time": "2022-07-02T09:59:58.280341",
     "status": "completed"
    },
    "tags": []
   },
   "source": [
    "## Step 3: Specify and Fit Model\n",
    "Create a `DecisionTreeRegressor` and save it iowa_model. Ensure you've done the relevant import from sklearn to run this command.\n",
    "\n",
    "Then fit the model you just created using the data in `X` and `y` that you saved above."
   ]
  },
  {
   "cell_type": "code",
   "execution_count": 8,
   "id": "5a017863",
   "metadata": {
    "execution": {
     "iopub.execute_input": "2022-07-02T09:59:58.300654Z",
     "iopub.status.busy": "2022-07-02T09:59:58.300266Z",
     "iopub.status.idle": "2022-07-02T09:59:58.319186Z",
     "shell.execute_reply": "2022-07-02T09:59:58.318335Z"
    },
    "papermill": {
     "duration": 0.028547,
     "end_time": "2022-07-02T09:59:58.321217",
     "exception": false,
     "start_time": "2022-07-02T09:59:58.292670",
     "status": "completed"
    },
    "tags": []
   },
   "outputs": [
    {
     "data": {
      "application/javascript": [
       "parent.postMessage({\"jupyterEvent\": \"custom.exercise_interaction\", \"data\": {\"outcomeType\": 1, \"valueTowardsCompletion\": 0.25, \"interactionType\": 1, \"questionType\": 2, \"questionId\": \"3_CreateModel\", \"learnToolsVersion\": \"0.3.4\", \"failureMessage\": \"\", \"exceptionClass\": \"\", \"trace\": \"\"}}, \"*\")"
      ],
      "text/plain": [
       "<IPython.core.display.Javascript object>"
      ]
     },
     "metadata": {},
     "output_type": "display_data"
    },
    {
     "data": {
      "text/markdown": [
       "<span style=\"color:#33cc33\">Correct</span>"
      ],
      "text/plain": [
       "Correct"
      ]
     },
     "metadata": {},
     "output_type": "display_data"
    }
   ],
   "source": [
    "from sklearn.tree import DecisionTreeRegressor\n",
    "#specify the model. \n",
    "#For model reproducibility, set a numeric value for random_state when specifying the model\n",
    "iowa_model = DecisionTreeRegressor(random_state=1)\n",
    "\n",
    "# Fit the model\n",
    "iowa_model.fit(X,y)\n",
    "\n",
    "# Check your answer\n",
    "step_3.check()"
   ]
  },
  {
   "cell_type": "code",
   "execution_count": 9,
   "id": "91b94a1b",
   "metadata": {
    "execution": {
     "iopub.execute_input": "2022-07-02T09:59:58.336841Z",
     "iopub.status.busy": "2022-07-02T09:59:58.336031Z",
     "iopub.status.idle": "2022-07-02T09:59:58.340574Z",
     "shell.execute_reply": "2022-07-02T09:59:58.339543Z"
    },
    "papermill": {
     "duration": 0.014883,
     "end_time": "2022-07-02T09:59:58.342793",
     "exception": false,
     "start_time": "2022-07-02T09:59:58.327910",
     "status": "completed"
    },
    "tags": []
   },
   "outputs": [],
   "source": [
    "# step_3.hint()\n",
    "#step_3.solution()"
   ]
  },
  {
   "cell_type": "markdown",
   "id": "3b735eb3",
   "metadata": {
    "papermill": {
     "duration": 0.006373,
     "end_time": "2022-07-02T09:59:58.355776",
     "exception": false,
     "start_time": "2022-07-02T09:59:58.349403",
     "status": "completed"
    },
    "tags": []
   },
   "source": [
    "## Step 4: Make Predictions\n",
    "Make predictions with the model's `predict` command using `X` as the data. Save the results to a variable called `predictions`."
   ]
  },
  {
   "cell_type": "code",
   "execution_count": 10,
   "id": "3ac621bd",
   "metadata": {
    "execution": {
     "iopub.execute_input": "2022-07-02T09:59:58.370840Z",
     "iopub.status.busy": "2022-07-02T09:59:58.370141Z",
     "iopub.status.idle": "2022-07-02T09:59:58.384497Z",
     "shell.execute_reply": "2022-07-02T09:59:58.383196Z"
    },
    "papermill": {
     "duration": 0.024177,
     "end_time": "2022-07-02T09:59:58.386439",
     "exception": false,
     "start_time": "2022-07-02T09:59:58.362262",
     "status": "completed"
    },
    "tags": []
   },
   "outputs": [
    {
     "name": "stdout",
     "output_type": "stream",
     "text": [
      "[208500. 181500. 223500. ... 266500. 142125. 147500.]\n"
     ]
    },
    {
     "data": {
      "application/javascript": [
       "parent.postMessage({\"jupyterEvent\": \"custom.exercise_interaction\", \"data\": {\"outcomeType\": 1, \"valueTowardsCompletion\": 0.25, \"interactionType\": 1, \"questionType\": 2, \"questionId\": \"4_MakePredictions\", \"learnToolsVersion\": \"0.3.4\", \"failureMessage\": \"\", \"exceptionClass\": \"\", \"trace\": \"\"}}, \"*\")"
      ],
      "text/plain": [
       "<IPython.core.display.Javascript object>"
      ]
     },
     "metadata": {},
     "output_type": "display_data"
    },
    {
     "data": {
      "text/markdown": [
       "<span style=\"color:#33cc33\">Correct</span>"
      ],
      "text/plain": [
       "Correct"
      ]
     },
     "metadata": {},
     "output_type": "display_data"
    }
   ],
   "source": [
    "predictions = iowa_model.predict(X)\n",
    "print(predictions)\n",
    "\n",
    "# Check your answer\n",
    "step_4.check()"
   ]
  },
  {
   "cell_type": "code",
   "execution_count": 11,
   "id": "ee47bb64",
   "metadata": {
    "execution": {
     "iopub.execute_input": "2022-07-02T09:59:58.403070Z",
     "iopub.status.busy": "2022-07-02T09:59:58.401902Z",
     "iopub.status.idle": "2022-07-02T09:59:58.406125Z",
     "shell.execute_reply": "2022-07-02T09:59:58.405385Z"
    },
    "papermill": {
     "duration": 0.014484,
     "end_time": "2022-07-02T09:59:58.408235",
     "exception": false,
     "start_time": "2022-07-02T09:59:58.393751",
     "status": "completed"
    },
    "tags": []
   },
   "outputs": [],
   "source": [
    "# step_4.hint()\n",
    "# step_4.solution()"
   ]
  },
  {
   "cell_type": "markdown",
   "id": "bff26e62",
   "metadata": {
    "papermill": {
     "duration": 0.006755,
     "end_time": "2022-07-02T09:59:58.421990",
     "exception": false,
     "start_time": "2022-07-02T09:59:58.415235",
     "status": "completed"
    },
    "tags": []
   },
   "source": [
    "## Think About Your Results\n",
    "\n",
    "Use the `head` method to compare the top few predictions to the actual home values (in `y`) for those same homes. Anything surprising?\n"
   ]
  },
  {
   "cell_type": "code",
   "execution_count": 12,
   "id": "1a285f86",
   "metadata": {
    "execution": {
     "iopub.execute_input": "2022-07-02T09:59:58.437618Z",
     "iopub.status.busy": "2022-07-02T09:59:58.437216Z",
     "iopub.status.idle": "2022-07-02T09:59:58.441685Z",
     "shell.execute_reply": "2022-07-02T09:59:58.440620Z"
    },
    "papermill": {
     "duration": 0.014899,
     "end_time": "2022-07-02T09:59:58.443851",
     "exception": false,
     "start_time": "2022-07-02T09:59:58.428952",
     "status": "completed"
    },
    "tags": []
   },
   "outputs": [],
   "source": [
    "# You can write code in this cell\n"
   ]
  },
  {
   "cell_type": "markdown",
   "id": "972d63f5",
   "metadata": {
    "papermill": {
     "duration": 0.006488,
     "end_time": "2022-07-02T09:59:58.457177",
     "exception": false,
     "start_time": "2022-07-02T09:59:58.450689",
     "status": "completed"
    },
    "tags": []
   },
   "source": [
    "It's natural to ask how accurate the model's predictions will be and how you can improve that. That will be you're next step.\n",
    "\n",
    "# Keep Going\n",
    "\n",
    "You are ready for **[Model Validation](https://www.kaggle.com/dansbecker/model-validation).**\n"
   ]
  },
  {
   "cell_type": "markdown",
   "id": "e270652f",
   "metadata": {
    "papermill": {
     "duration": 0.006556,
     "end_time": "2022-07-02T09:59:58.470550",
     "exception": false,
     "start_time": "2022-07-02T09:59:58.463994",
     "status": "completed"
    },
    "tags": []
   },
   "source": [
    "---\n",
    "\n",
    "\n",
    "\n",
    "\n",
    "*Have questions or comments? Visit the [course discussion forum](https://www.kaggle.com/learn/intro-to-machine-learning/discussion) to chat with other learners.*"
   ]
  }
 ],
 "metadata": {
  "kernelspec": {
   "display_name": "Python 3",
   "language": "python",
   "name": "python3"
  },
  "language_info": {
   "codemirror_mode": {
    "name": "ipython",
    "version": 3
   },
   "file_extension": ".py",
   "mimetype": "text/x-python",
   "name": "python",
   "nbconvert_exporter": "python",
   "pygments_lexer": "ipython3",
   "version": "3.7.12"
  },
  "papermill": {
   "default_parameters": {},
   "duration": 12.24813,
   "end_time": "2022-07-02T09:59:59.199208",
   "environment_variables": {},
   "exception": null,
   "input_path": "__notebook__.ipynb",
   "output_path": "__notebook__.ipynb",
   "parameters": {},
   "start_time": "2022-07-02T09:59:46.951078",
   "version": "2.3.4"
  }
 },
 "nbformat": 4,
 "nbformat_minor": 5
}
