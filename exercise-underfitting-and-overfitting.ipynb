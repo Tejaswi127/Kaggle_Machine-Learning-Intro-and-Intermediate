{
 "cells": [
  {
   "cell_type": "markdown",
   "id": "27b0ad1e",
   "metadata": {
    "papermill": {
     "duration": 0.004203,
     "end_time": "2022-07-02T10:10:42.458105",
     "exception": false,
     "start_time": "2022-07-02T10:10:42.453902",
     "status": "completed"
    },
    "tags": []
   },
   "source": [
    "**This notebook is an exercise in the [Introduction to Machine Learning](https://www.kaggle.com/learn/intro-to-machine-learning) course.  You can reference the tutorial at [this link](https://www.kaggle.com/dansbecker/underfitting-and-overfitting).**\n",
    "\n",
    "---\n"
   ]
  },
  {
   "cell_type": "markdown",
   "id": "b3b8fa54",
   "metadata": {
    "papermill": {
     "duration": 0.002768,
     "end_time": "2022-07-02T10:10:42.464240",
     "exception": false,
     "start_time": "2022-07-02T10:10:42.461472",
     "status": "completed"
    },
    "tags": []
   },
   "source": [
    "## Recap\n",
    "You've built your first model, and now it's time to optimize the size of the tree to make better predictions. Run this cell to set up your coding environment where the previous step left off."
   ]
  },
  {
   "cell_type": "code",
   "execution_count": 1,
   "id": "76bb0592",
   "metadata": {
    "execution": {
     "iopub.execute_input": "2022-07-02T10:10:42.471980Z",
     "iopub.status.busy": "2022-07-02T10:10:42.471522Z",
     "iopub.status.idle": "2022-07-02T10:10:43.950367Z",
     "shell.execute_reply": "2022-07-02T10:10:43.949182Z"
    },
    "papermill": {
     "duration": 1.485969,
     "end_time": "2022-07-02T10:10:43.953172",
     "exception": false,
     "start_time": "2022-07-02T10:10:42.467203",
     "status": "completed"
    },
    "tags": []
   },
   "outputs": [
    {
     "name": "stdout",
     "output_type": "stream",
     "text": [
      "Validation MAE: 29,653\n",
      "\n",
      "Setup complete\n"
     ]
    }
   ],
   "source": [
    "# Code you have previously used to load data\n",
    "import pandas as pd\n",
    "from sklearn.metrics import mean_absolute_error\n",
    "from sklearn.model_selection import train_test_split\n",
    "from sklearn.tree import DecisionTreeRegressor\n",
    "\n",
    "\n",
    "# Path of the file to read\n",
    "iowa_file_path = '../input/home-data-for-ml-course/train.csv'\n",
    "\n",
    "home_data = pd.read_csv(iowa_file_path)\n",
    "# Create target object and call it y\n",
    "y = home_data.SalePrice\n",
    "# Create X\n",
    "features = ['LotArea', 'YearBuilt', '1stFlrSF', '2ndFlrSF', 'FullBath', 'BedroomAbvGr', 'TotRmsAbvGrd']\n",
    "X = home_data[features]\n",
    "\n",
    "# Split into validation and training data\n",
    "train_X, val_X, train_y, val_y = train_test_split(X, y, random_state=1)\n",
    "\n",
    "# Specify Model\n",
    "iowa_model = DecisionTreeRegressor(random_state=1)\n",
    "# Fit Model\n",
    "iowa_model.fit(train_X, train_y)\n",
    "\n",
    "# Make validation predictions and calculate mean absolute error\n",
    "val_predictions = iowa_model.predict(val_X)\n",
    "val_mae = mean_absolute_error(val_predictions, val_y)\n",
    "print(\"Validation MAE: {:,.0f}\".format(val_mae))\n",
    "\n",
    "# Set up code checking\n",
    "from learntools.core import binder\n",
    "binder.bind(globals())\n",
    "from learntools.machine_learning.ex5 import *\n",
    "print(\"\\nSetup complete\")"
   ]
  },
  {
   "cell_type": "markdown",
   "id": "9d92d320",
   "metadata": {
    "papermill": {
     "duration": 0.003079,
     "end_time": "2022-07-02T10:10:43.959595",
     "exception": false,
     "start_time": "2022-07-02T10:10:43.956516",
     "status": "completed"
    },
    "tags": []
   },
   "source": [
    "# Exercises\n",
    "You could write the function `get_mae` yourself. For now, we'll supply it. This is the same function you read about in the previous lesson. Just run the cell below."
   ]
  },
  {
   "cell_type": "code",
   "execution_count": 2,
   "id": "76fd4f7a",
   "metadata": {
    "execution": {
     "iopub.execute_input": "2022-07-02T10:10:43.967384Z",
     "iopub.status.busy": "2022-07-02T10:10:43.967023Z",
     "iopub.status.idle": "2022-07-02T10:10:43.972845Z",
     "shell.execute_reply": "2022-07-02T10:10:43.971624Z"
    },
    "papermill": {
     "duration": 0.012439,
     "end_time": "2022-07-02T10:10:43.975160",
     "exception": false,
     "start_time": "2022-07-02T10:10:43.962721",
     "status": "completed"
    },
    "tags": []
   },
   "outputs": [],
   "source": [
    "def get_mae(max_leaf_nodes, train_X, val_X, train_y, val_y):\n",
    "    model = DecisionTreeRegressor(max_leaf_nodes=max_leaf_nodes, random_state=0)\n",
    "    model.fit(train_X, train_y)\n",
    "    preds_val = model.predict(val_X)\n",
    "    mae = mean_absolute_error(val_y, preds_val)\n",
    "    return(mae)"
   ]
  },
  {
   "cell_type": "markdown",
   "id": "f4c2558e",
   "metadata": {
    "papermill": {
     "duration": 0.002821,
     "end_time": "2022-07-02T10:10:43.981295",
     "exception": false,
     "start_time": "2022-07-02T10:10:43.978474",
     "status": "completed"
    },
    "tags": []
   },
   "source": [
    "## Step 1: Compare Different Tree Sizes\n",
    "Write a loop that tries the following values for *max_leaf_nodes* from a set of possible values.\n",
    "\n",
    "Call the *get_mae* function on each value of max_leaf_nodes. Store the output in some way that allows you to select the value of `max_leaf_nodes` that gives the most accurate model on your data."
   ]
  },
  {
   "cell_type": "code",
   "execution_count": 3,
   "id": "5a2c85e1",
   "metadata": {
    "execution": {
     "iopub.execute_input": "2022-07-02T10:10:43.989065Z",
     "iopub.status.busy": "2022-07-02T10:10:43.988622Z",
     "iopub.status.idle": "2022-07-02T10:10:44.037003Z",
     "shell.execute_reply": "2022-07-02T10:10:44.035840Z"
    },
    "papermill": {
     "duration": 0.054727,
     "end_time": "2022-07-02T10:10:44.039090",
     "exception": false,
     "start_time": "2022-07-02T10:10:43.984363",
     "status": "completed"
    },
    "tags": []
   },
   "outputs": [
    {
     "data": {
      "application/javascript": [
       "parent.postMessage({\"jupyterEvent\": \"custom.exercise_interaction\", \"data\": {\"outcomeType\": 1, \"valueTowardsCompletion\": 0.5, \"interactionType\": 1, \"questionType\": 1, \"questionId\": \"1_BestTreeSize\", \"learnToolsVersion\": \"0.3.4\", \"failureMessage\": \"\", \"exceptionClass\": \"\", \"trace\": \"\"}}, \"*\")"
      ],
      "text/plain": [
       "<IPython.core.display.Javascript object>"
      ]
     },
     "metadata": {},
     "output_type": "display_data"
    },
    {
     "data": {
      "text/markdown": [
       "<span style=\"color:#33cc33\">Correct</span>"
      ],
      "text/plain": [
       "Correct"
      ]
     },
     "metadata": {},
     "output_type": "display_data"
    }
   ],
   "source": [
    "candidate_max_leaf_nodes = [5, 25, 50, 100, 250, 500]\n",
    "# Write loop to find the ideal tree size from candidate_max_leaf_nodes\n",
    "scores = {leaf_size: get_mae(leaf_size, train_X, val_X, train_y, val_y) for leaf_size in candidate_max_leaf_nodes}\n",
    "\n",
    "\n",
    "# Store the best value of max_leaf_nodes (it will be either 5, 25, 50, 100, 250 or 500)\n",
    "best_tree_size = min(scores, key=scores.get)\n",
    "\n",
    "# Check your answer\n",
    "step_1.check()"
   ]
  },
  {
   "cell_type": "code",
   "execution_count": 4,
   "id": "186eda75",
   "metadata": {
    "execution": {
     "iopub.execute_input": "2022-07-02T10:10:44.047340Z",
     "iopub.status.busy": "2022-07-02T10:10:44.046953Z",
     "iopub.status.idle": "2022-07-02T10:10:44.051257Z",
     "shell.execute_reply": "2022-07-02T10:10:44.050115Z"
    },
    "papermill": {
     "duration": 0.011008,
     "end_time": "2022-07-02T10:10:44.053403",
     "exception": false,
     "start_time": "2022-07-02T10:10:44.042395",
     "status": "completed"
    },
    "tags": []
   },
   "outputs": [],
   "source": [
    "# The lines below will show you a hint or the solution.\n",
    "# step_1.hint() \n",
    "# step_1.solution()"
   ]
  },
  {
   "cell_type": "markdown",
   "id": "d8a1e4f9",
   "metadata": {
    "papermill": {
     "duration": 0.00307,
     "end_time": "2022-07-02T10:10:44.059827",
     "exception": false,
     "start_time": "2022-07-02T10:10:44.056757",
     "status": "completed"
    },
    "tags": []
   },
   "source": [
    "## Step 2: Fit Model Using All Data\n",
    "You know the best tree size. If you were going to deploy this model in practice, you would make it even more accurate by using all of the data and keeping that tree size.  That is, you don't need to hold out the validation data now that you've made all your modeling decisions."
   ]
  },
  {
   "cell_type": "code",
   "execution_count": 5,
   "id": "302e6c06",
   "metadata": {
    "execution": {
     "iopub.execute_input": "2022-07-02T10:10:44.068620Z",
     "iopub.status.busy": "2022-07-02T10:10:44.067951Z",
     "iopub.status.idle": "2022-07-02T10:10:44.085509Z",
     "shell.execute_reply": "2022-07-02T10:10:44.084385Z"
    },
    "papermill": {
     "duration": 0.024629,
     "end_time": "2022-07-02T10:10:44.087759",
     "exception": false,
     "start_time": "2022-07-02T10:10:44.063130",
     "status": "completed"
    },
    "tags": []
   },
   "outputs": [
    {
     "data": {
      "application/javascript": [
       "parent.postMessage({\"jupyterEvent\": \"custom.exercise_interaction\", \"data\": {\"outcomeType\": 1, \"valueTowardsCompletion\": 0.5, \"interactionType\": 1, \"questionType\": 2, \"questionId\": \"2_FitModelWithAllData\", \"learnToolsVersion\": \"0.3.4\", \"failureMessage\": \"\", \"exceptionClass\": \"\", \"trace\": \"\"}}, \"*\")"
      ],
      "text/plain": [
       "<IPython.core.display.Javascript object>"
      ]
     },
     "metadata": {},
     "output_type": "display_data"
    },
    {
     "data": {
      "text/markdown": [
       "<span style=\"color:#33cc33\">Correct</span>"
      ],
      "text/plain": [
       "Correct"
      ]
     },
     "metadata": {},
     "output_type": "display_data"
    }
   ],
   "source": [
    "# Fill in argument to make optimal size and uncomment\n",
    "final_model = DecisionTreeRegressor(max_leaf_nodes=best_tree_size,random_state=1)\n",
    "\n",
    "# fit the final model and uncomment the next two lines\n",
    "final_model.fit(X,y)\n",
    "\n",
    "# Check your answer\n",
    "step_2.check()"
   ]
  },
  {
   "cell_type": "code",
   "execution_count": 6,
   "id": "4a3c03e2",
   "metadata": {
    "execution": {
     "iopub.execute_input": "2022-07-02T10:10:44.096749Z",
     "iopub.status.busy": "2022-07-02T10:10:44.096089Z",
     "iopub.status.idle": "2022-07-02T10:10:44.100385Z",
     "shell.execute_reply": "2022-07-02T10:10:44.099573Z"
    },
    "papermill": {
     "duration": 0.011361,
     "end_time": "2022-07-02T10:10:44.102508",
     "exception": false,
     "start_time": "2022-07-02T10:10:44.091147",
     "status": "completed"
    },
    "tags": []
   },
   "outputs": [],
   "source": [
    "# step_2.hint()\n",
    "# step_2.solution()"
   ]
  },
  {
   "cell_type": "markdown",
   "id": "e3764cf9",
   "metadata": {
    "papermill": {
     "duration": 0.0033,
     "end_time": "2022-07-02T10:10:44.109361",
     "exception": false,
     "start_time": "2022-07-02T10:10:44.106061",
     "status": "completed"
    },
    "tags": []
   },
   "source": [
    "You've tuned this model and improved your results. But we are still using Decision Tree models, which are not very sophisticated by modern machine learning standards. In the next step you will learn to use Random Forests to improve your models even more.\n",
    "\n",
    "# Keep Going\n",
    "\n",
    "You are ready for **[Random Forests](https://www.kaggle.com/dansbecker/random-forests).**\n"
   ]
  },
  {
   "cell_type": "markdown",
   "id": "fafc16ea",
   "metadata": {
    "papermill": {
     "duration": 0.003195,
     "end_time": "2022-07-02T10:10:44.116212",
     "exception": false,
     "start_time": "2022-07-02T10:10:44.113017",
     "status": "completed"
    },
    "tags": []
   },
   "source": [
    "---\n",
    "\n",
    "\n",
    "\n",
    "\n",
    "*Have questions or comments? Visit the [course discussion forum](https://www.kaggle.com/learn/intro-to-machine-learning/discussion) to chat with other learners.*"
   ]
  }
 ],
 "metadata": {
  "kernelspec": {
   "display_name": "Python 3",
   "language": "python",
   "name": "python3"
  },
  "language_info": {
   "codemirror_mode": {
    "name": "ipython",
    "version": 3
   },
   "file_extension": ".py",
   "mimetype": "text/x-python",
   "name": "python",
   "nbconvert_exporter": "python",
   "pygments_lexer": "ipython3",
   "version": "3.7.12"
  },
  "papermill": {
   "default_parameters": {},
   "duration": 11.509755,
   "end_time": "2022-07-02T10:10:44.840704",
   "environment_variables": {},
   "exception": null,
   "input_path": "__notebook__.ipynb",
   "output_path": "__notebook__.ipynb",
   "parameters": {},
   "start_time": "2022-07-02T10:10:33.330949",
   "version": "2.3.4"
  }
 },
 "nbformat": 4,
 "nbformat_minor": 5
}
