{
 "cells": [
  {
   "cell_type": "markdown",
   "id": "9554ca78",
   "metadata": {
    "papermill": {
     "duration": 0.008494,
     "end_time": "2022-07-02T17:12:51.670223",
     "exception": false,
     "start_time": "2022-07-02T17:12:51.661729",
     "status": "completed"
    },
    "tags": []
   },
   "source": [
    "**This notebook is an exercise in the [Intermediate Machine Learning](https://www.kaggle.com/learn/intermediate-machine-learning) course.  You can reference the tutorial at [this link](https://www.kaggle.com/alexisbcook/missing-values).**\n",
    "\n",
    "---\n"
   ]
  },
  {
   "cell_type": "markdown",
   "id": "14508c7f",
   "metadata": {
    "papermill": {
     "duration": 0.006996,
     "end_time": "2022-07-02T17:12:51.684807",
     "exception": false,
     "start_time": "2022-07-02T17:12:51.677811",
     "status": "completed"
    },
    "tags": []
   },
   "source": [
    "Now it's your turn to test your new knowledge of **missing values** handling. You'll probably find it makes a big difference.\n",
    "\n",
    "# Setup\n",
    "\n",
    "The questions will give you feedback on your work. Run the following cell to set up the feedback system."
   ]
  },
  {
   "cell_type": "code",
   "execution_count": 1,
   "id": "23976fba",
   "metadata": {
    "execution": {
     "iopub.execute_input": "2022-07-02T17:12:51.702008Z",
     "iopub.status.busy": "2022-07-02T17:12:51.701218Z",
     "iopub.status.idle": "2022-07-02T17:12:51.757901Z",
     "shell.execute_reply": "2022-07-02T17:12:51.756988Z"
    },
    "papermill": {
     "duration": 0.068172,
     "end_time": "2022-07-02T17:12:51.760424",
     "exception": false,
     "start_time": "2022-07-02T17:12:51.692252",
     "status": "completed"
    },
    "tags": []
   },
   "outputs": [
    {
     "name": "stdout",
     "output_type": "stream",
     "text": [
      "Setup Complete\n"
     ]
    }
   ],
   "source": [
    "# Set up code checking\n",
    "import os\n",
    "if not os.path.exists(\"../input/train.csv\"):\n",
    "    os.symlink(\"../input/home-data-for-ml-course/train.csv\", \"../input/train.csv\")  \n",
    "    os.symlink(\"../input/home-data-for-ml-course/test.csv\", \"../input/test.csv\") \n",
    "from learntools.core import binder\n",
    "binder.bind(globals())\n",
    "from learntools.ml_intermediate.ex2 import *\n",
    "print(\"Setup Complete\")"
   ]
  },
  {
   "cell_type": "markdown",
   "id": "fdfd087c",
   "metadata": {
    "papermill": {
     "duration": 0.007046,
     "end_time": "2022-07-02T17:12:51.775349",
     "exception": false,
     "start_time": "2022-07-02T17:12:51.768303",
     "status": "completed"
    },
    "tags": []
   },
   "source": [
    "In this exercise, you will work with data from the [Housing Prices Competition for Kaggle Learn Users](https://www.kaggle.com/c/home-data-for-ml-course). \n",
    "\n",
    "![Ames Housing dataset image](https://i.imgur.com/lTJVG4e.png)\n",
    "\n",
    "Run the next code cell without changes to load the training and validation sets in `X_train`, `X_valid`, `y_train`, and `y_valid`.  The test set is loaded in `X_test`."
   ]
  },
  {
   "cell_type": "code",
   "execution_count": 2,
   "id": "157c8366",
   "metadata": {
    "execution": {
     "iopub.execute_input": "2022-07-02T17:12:51.791722Z",
     "iopub.status.busy": "2022-07-02T17:12:51.791032Z",
     "iopub.status.idle": "2022-07-02T17:12:53.257150Z",
     "shell.execute_reply": "2022-07-02T17:12:53.255749Z"
    },
    "papermill": {
     "duration": 1.477839,
     "end_time": "2022-07-02T17:12:53.260201",
     "exception": false,
     "start_time": "2022-07-02T17:12:51.782362",
     "status": "completed"
    },
    "tags": []
   },
   "outputs": [],
   "source": [
    "import pandas as pd\n",
    "from sklearn.model_selection import train_test_split\n",
    "\n",
    "# Read the data\n",
    "X_full = pd.read_csv('../input/train.csv', index_col='Id')\n",
    "X_test_full = pd.read_csv('../input/test.csv', index_col='Id')\n",
    "\n",
    "# Remove rows with missing target, separate target from predictors\n",
    "X_full.dropna(axis=0, subset=['SalePrice'], inplace=True)\n",
    "y = X_full.SalePrice\n",
    "X_full.drop(['SalePrice'], axis=1, inplace=True)\n",
    "\n",
    "# To keep things simple, we'll use only numerical predictors\n",
    "X = X_full.select_dtypes(exclude=['object'])\n",
    "X_test = X_test_full.select_dtypes(exclude=['object'])\n",
    "\n",
    "# Break off validation set from training data\n",
    "X_train, X_valid, y_train, y_valid = train_test_split(X, y, train_size=0.8, test_size=0.2,\n",
    "                                                      random_state=0)"
   ]
  },
  {
   "cell_type": "markdown",
   "id": "e879cae6",
   "metadata": {
    "papermill": {
     "duration": 0.007619,
     "end_time": "2022-07-02T17:12:53.276935",
     "exception": false,
     "start_time": "2022-07-02T17:12:53.269316",
     "status": "completed"
    },
    "tags": []
   },
   "source": [
    "Use the next code cell to print the first five rows of the data."
   ]
  },
  {
   "cell_type": "code",
   "execution_count": 3,
   "id": "a5d8fb46",
   "metadata": {
    "execution": {
     "iopub.execute_input": "2022-07-02T17:12:53.295084Z",
     "iopub.status.busy": "2022-07-02T17:12:53.294339Z",
     "iopub.status.idle": "2022-07-02T17:12:53.323612Z",
     "shell.execute_reply": "2022-07-02T17:12:53.322291Z"
    },
    "papermill": {
     "duration": 0.04121,
     "end_time": "2022-07-02T17:12:53.325995",
     "exception": false,
     "start_time": "2022-07-02T17:12:53.284785",
     "status": "completed"
    },
    "tags": []
   },
   "outputs": [
    {
     "data": {
      "text/html": [
       "<div>\n",
       "<style scoped>\n",
       "    .dataframe tbody tr th:only-of-type {\n",
       "        vertical-align: middle;\n",
       "    }\n",
       "\n",
       "    .dataframe tbody tr th {\n",
       "        vertical-align: top;\n",
       "    }\n",
       "\n",
       "    .dataframe thead th {\n",
       "        text-align: right;\n",
       "    }\n",
       "</style>\n",
       "<table border=\"1\" class=\"dataframe\">\n",
       "  <thead>\n",
       "    <tr style=\"text-align: right;\">\n",
       "      <th></th>\n",
       "      <th>MSSubClass</th>\n",
       "      <th>LotFrontage</th>\n",
       "      <th>LotArea</th>\n",
       "      <th>OverallQual</th>\n",
       "      <th>OverallCond</th>\n",
       "      <th>YearBuilt</th>\n",
       "      <th>YearRemodAdd</th>\n",
       "      <th>MasVnrArea</th>\n",
       "      <th>BsmtFinSF1</th>\n",
       "      <th>BsmtFinSF2</th>\n",
       "      <th>...</th>\n",
       "      <th>GarageArea</th>\n",
       "      <th>WoodDeckSF</th>\n",
       "      <th>OpenPorchSF</th>\n",
       "      <th>EnclosedPorch</th>\n",
       "      <th>3SsnPorch</th>\n",
       "      <th>ScreenPorch</th>\n",
       "      <th>PoolArea</th>\n",
       "      <th>MiscVal</th>\n",
       "      <th>MoSold</th>\n",
       "      <th>YrSold</th>\n",
       "    </tr>\n",
       "    <tr>\n",
       "      <th>Id</th>\n",
       "      <th></th>\n",
       "      <th></th>\n",
       "      <th></th>\n",
       "      <th></th>\n",
       "      <th></th>\n",
       "      <th></th>\n",
       "      <th></th>\n",
       "      <th></th>\n",
       "      <th></th>\n",
       "      <th></th>\n",
       "      <th></th>\n",
       "      <th></th>\n",
       "      <th></th>\n",
       "      <th></th>\n",
       "      <th></th>\n",
       "      <th></th>\n",
       "      <th></th>\n",
       "      <th></th>\n",
       "      <th></th>\n",
       "      <th></th>\n",
       "      <th></th>\n",
       "    </tr>\n",
       "  </thead>\n",
       "  <tbody>\n",
       "    <tr>\n",
       "      <th>619</th>\n",
       "      <td>20</td>\n",
       "      <td>90.0</td>\n",
       "      <td>11694</td>\n",
       "      <td>9</td>\n",
       "      <td>5</td>\n",
       "      <td>2007</td>\n",
       "      <td>2007</td>\n",
       "      <td>452.0</td>\n",
       "      <td>48</td>\n",
       "      <td>0</td>\n",
       "      <td>...</td>\n",
       "      <td>774</td>\n",
       "      <td>0</td>\n",
       "      <td>108</td>\n",
       "      <td>0</td>\n",
       "      <td>0</td>\n",
       "      <td>260</td>\n",
       "      <td>0</td>\n",
       "      <td>0</td>\n",
       "      <td>7</td>\n",
       "      <td>2007</td>\n",
       "    </tr>\n",
       "    <tr>\n",
       "      <th>871</th>\n",
       "      <td>20</td>\n",
       "      <td>60.0</td>\n",
       "      <td>6600</td>\n",
       "      <td>5</td>\n",
       "      <td>5</td>\n",
       "      <td>1962</td>\n",
       "      <td>1962</td>\n",
       "      <td>0.0</td>\n",
       "      <td>0</td>\n",
       "      <td>0</td>\n",
       "      <td>...</td>\n",
       "      <td>308</td>\n",
       "      <td>0</td>\n",
       "      <td>0</td>\n",
       "      <td>0</td>\n",
       "      <td>0</td>\n",
       "      <td>0</td>\n",
       "      <td>0</td>\n",
       "      <td>0</td>\n",
       "      <td>8</td>\n",
       "      <td>2009</td>\n",
       "    </tr>\n",
       "    <tr>\n",
       "      <th>93</th>\n",
       "      <td>30</td>\n",
       "      <td>80.0</td>\n",
       "      <td>13360</td>\n",
       "      <td>5</td>\n",
       "      <td>7</td>\n",
       "      <td>1921</td>\n",
       "      <td>2006</td>\n",
       "      <td>0.0</td>\n",
       "      <td>713</td>\n",
       "      <td>0</td>\n",
       "      <td>...</td>\n",
       "      <td>432</td>\n",
       "      <td>0</td>\n",
       "      <td>0</td>\n",
       "      <td>44</td>\n",
       "      <td>0</td>\n",
       "      <td>0</td>\n",
       "      <td>0</td>\n",
       "      <td>0</td>\n",
       "      <td>8</td>\n",
       "      <td>2009</td>\n",
       "    </tr>\n",
       "    <tr>\n",
       "      <th>818</th>\n",
       "      <td>20</td>\n",
       "      <td>NaN</td>\n",
       "      <td>13265</td>\n",
       "      <td>8</td>\n",
       "      <td>5</td>\n",
       "      <td>2002</td>\n",
       "      <td>2002</td>\n",
       "      <td>148.0</td>\n",
       "      <td>1218</td>\n",
       "      <td>0</td>\n",
       "      <td>...</td>\n",
       "      <td>857</td>\n",
       "      <td>150</td>\n",
       "      <td>59</td>\n",
       "      <td>0</td>\n",
       "      <td>0</td>\n",
       "      <td>0</td>\n",
       "      <td>0</td>\n",
       "      <td>0</td>\n",
       "      <td>7</td>\n",
       "      <td>2008</td>\n",
       "    </tr>\n",
       "    <tr>\n",
       "      <th>303</th>\n",
       "      <td>20</td>\n",
       "      <td>118.0</td>\n",
       "      <td>13704</td>\n",
       "      <td>7</td>\n",
       "      <td>5</td>\n",
       "      <td>2001</td>\n",
       "      <td>2002</td>\n",
       "      <td>150.0</td>\n",
       "      <td>0</td>\n",
       "      <td>0</td>\n",
       "      <td>...</td>\n",
       "      <td>843</td>\n",
       "      <td>468</td>\n",
       "      <td>81</td>\n",
       "      <td>0</td>\n",
       "      <td>0</td>\n",
       "      <td>0</td>\n",
       "      <td>0</td>\n",
       "      <td>0</td>\n",
       "      <td>1</td>\n",
       "      <td>2006</td>\n",
       "    </tr>\n",
       "  </tbody>\n",
       "</table>\n",
       "<p>5 rows × 36 columns</p>\n",
       "</div>"
      ],
      "text/plain": [
       "     MSSubClass  LotFrontage  LotArea  OverallQual  OverallCond  YearBuilt  \\\n",
       "Id                                                                           \n",
       "619          20         90.0    11694            9            5       2007   \n",
       "871          20         60.0     6600            5            5       1962   \n",
       "93           30         80.0    13360            5            7       1921   \n",
       "818          20          NaN    13265            8            5       2002   \n",
       "303          20        118.0    13704            7            5       2001   \n",
       "\n",
       "     YearRemodAdd  MasVnrArea  BsmtFinSF1  BsmtFinSF2  ...  GarageArea  \\\n",
       "Id                                                     ...               \n",
       "619          2007       452.0          48           0  ...         774   \n",
       "871          1962         0.0           0           0  ...         308   \n",
       "93           2006         0.0         713           0  ...         432   \n",
       "818          2002       148.0        1218           0  ...         857   \n",
       "303          2002       150.0           0           0  ...         843   \n",
       "\n",
       "     WoodDeckSF  OpenPorchSF  EnclosedPorch  3SsnPorch  ScreenPorch  PoolArea  \\\n",
       "Id                                                                              \n",
       "619           0          108              0          0          260         0   \n",
       "871           0            0              0          0            0         0   \n",
       "93            0            0             44          0            0         0   \n",
       "818         150           59              0          0            0         0   \n",
       "303         468           81              0          0            0         0   \n",
       "\n",
       "     MiscVal  MoSold  YrSold  \n",
       "Id                            \n",
       "619        0       7    2007  \n",
       "871        0       8    2009  \n",
       "93         0       8    2009  \n",
       "818        0       7    2008  \n",
       "303        0       1    2006  \n",
       "\n",
       "[5 rows x 36 columns]"
      ]
     },
     "execution_count": 3,
     "metadata": {},
     "output_type": "execute_result"
    }
   ],
   "source": [
    "X_train.head()"
   ]
  },
  {
   "cell_type": "markdown",
   "id": "6eaefeda",
   "metadata": {
    "papermill": {
     "duration": 0.007728,
     "end_time": "2022-07-02T17:12:53.341802",
     "exception": false,
     "start_time": "2022-07-02T17:12:53.334074",
     "status": "completed"
    },
    "tags": []
   },
   "source": [
    "You can already see a few missing values in the first several rows.  In the next step, you'll obtain a more comprehensive understanding of the missing values in the dataset.\n",
    "\n",
    "# Step 1: Preliminary investigation\n",
    "\n",
    "Run the code cell below without changes."
   ]
  },
  {
   "cell_type": "code",
   "execution_count": 4,
   "id": "afba5912",
   "metadata": {
    "execution": {
     "iopub.execute_input": "2022-07-02T17:12:53.361003Z",
     "iopub.status.busy": "2022-07-02T17:12:53.360097Z",
     "iopub.status.idle": "2022-07-02T17:12:53.368338Z",
     "shell.execute_reply": "2022-07-02T17:12:53.367040Z"
    },
    "papermill": {
     "duration": 0.020129,
     "end_time": "2022-07-02T17:12:53.370952",
     "exception": false,
     "start_time": "2022-07-02T17:12:53.350823",
     "status": "completed"
    },
    "tags": []
   },
   "outputs": [
    {
     "name": "stdout",
     "output_type": "stream",
     "text": [
      "(1168, 36)\n",
      "LotFrontage    212\n",
      "MasVnrArea       6\n",
      "GarageYrBlt     58\n",
      "dtype: int64\n"
     ]
    }
   ],
   "source": [
    "# Shape of training data (num_rows, num_columns)\n",
    "print(X_train.shape)\n",
    "\n",
    "# Number of missing values in each column of training data\n",
    "missing_val_count_by_column = (X_train.isnull().sum())\n",
    "print(missing_val_count_by_column[missing_val_count_by_column > 0])"
   ]
  },
  {
   "cell_type": "markdown",
   "id": "c18f5863",
   "metadata": {
    "papermill": {
     "duration": 0.007734,
     "end_time": "2022-07-02T17:12:53.386583",
     "exception": false,
     "start_time": "2022-07-02T17:12:53.378849",
     "status": "completed"
    },
    "tags": []
   },
   "source": [
    "### Part A\n",
    "\n",
    "Use the above output to answer the questions below."
   ]
  },
  {
   "cell_type": "code",
   "execution_count": 5,
   "id": "d548fe30",
   "metadata": {
    "execution": {
     "iopub.execute_input": "2022-07-02T17:12:53.404604Z",
     "iopub.status.busy": "2022-07-02T17:12:53.404209Z",
     "iopub.status.idle": "2022-07-02T17:12:53.412174Z",
     "shell.execute_reply": "2022-07-02T17:12:53.411396Z"
    },
    "papermill": {
     "duration": 0.019446,
     "end_time": "2022-07-02T17:12:53.414126",
     "exception": false,
     "start_time": "2022-07-02T17:12:53.394680",
     "status": "completed"
    },
    "tags": []
   },
   "outputs": [
    {
     "data": {
      "application/javascript": [
       "parent.postMessage({\"jupyterEvent\": \"custom.exercise_interaction\", \"data\": {\"outcomeType\": 1, \"valueTowardsCompletion\": 1.0, \"interactionType\": 1, \"questionType\": 1, \"questionId\": \"1.1_InvestigateEquality\", \"learnToolsVersion\": \"0.3.4\", \"failureMessage\": \"\", \"exceptionClass\": \"\", \"trace\": \"\"}}, \"*\")"
      ],
      "text/plain": [
       "<IPython.core.display.Javascript object>"
      ]
     },
     "metadata": {},
     "output_type": "display_data"
    },
    {
     "data": {
      "text/markdown": [
       "<span style=\"color:#33cc33\">Correct</span>"
      ],
      "text/plain": [
       "Correct"
      ]
     },
     "metadata": {},
     "output_type": "display_data"
    }
   ],
   "source": [
    "# Fill in the line below: How many rows are in the training data?\n",
    "num_rows =1168\n",
    "\n",
    "# Fill in the line below: How many columns in the training data\n",
    "# have missing values?\n",
    "num_cols_with_missing = 3\n",
    "\n",
    "# Fill in the line below: How many missing entries are contained in \n",
    "# all of the training data?\n",
    "tot_missing = 212+6+58\n",
    "\n",
    "# Check your answers\n",
    "step_1.a.check()"
   ]
  },
  {
   "cell_type": "code",
   "execution_count": 6,
   "id": "46f94910",
   "metadata": {
    "execution": {
     "iopub.execute_input": "2022-07-02T17:12:53.432438Z",
     "iopub.status.busy": "2022-07-02T17:12:53.431569Z",
     "iopub.status.idle": "2022-07-02T17:12:53.435272Z",
     "shell.execute_reply": "2022-07-02T17:12:53.434544Z"
    },
    "papermill": {
     "duration": 0.015183,
     "end_time": "2022-07-02T17:12:53.437464",
     "exception": false,
     "start_time": "2022-07-02T17:12:53.422281",
     "status": "completed"
    },
    "tags": []
   },
   "outputs": [],
   "source": [
    "# Lines below will give you a hint or solution code\n",
    "#step_1.a.hint()\n",
    "#step_1.a.solution()"
   ]
  },
  {
   "cell_type": "markdown",
   "id": "5d52c020",
   "metadata": {
    "papermill": {
     "duration": 0.00785,
     "end_time": "2022-07-02T17:12:53.453830",
     "exception": false,
     "start_time": "2022-07-02T17:12:53.445980",
     "status": "completed"
    },
    "tags": []
   },
   "source": [
    "### Part B\n",
    "Considering your answers above, what do you think is likely the best approach to dealing with the missing values?"
   ]
  },
  {
   "cell_type": "code",
   "execution_count": 7,
   "id": "1ed0c5ba",
   "metadata": {
    "execution": {
     "iopub.execute_input": "2022-07-02T17:12:53.471911Z",
     "iopub.status.busy": "2022-07-02T17:12:53.471282Z",
     "iopub.status.idle": "2022-07-02T17:12:53.478965Z",
     "shell.execute_reply": "2022-07-02T17:12:53.477746Z"
    },
    "papermill": {
     "duration": 0.019449,
     "end_time": "2022-07-02T17:12:53.481287",
     "exception": false,
     "start_time": "2022-07-02T17:12:53.461838",
     "status": "completed"
    },
    "tags": []
   },
   "outputs": [
    {
     "data": {
      "application/javascript": [
       "parent.postMessage({\"jupyterEvent\": \"custom.exercise_interaction\", \"data\": {\"outcomeType\": 1, \"valueTowardsCompletion\": 1.0, \"interactionType\": 1, \"questionType\": 4, \"questionId\": \"1.2_InvestigateThought\", \"learnToolsVersion\": \"0.3.4\", \"failureMessage\": \"\", \"exceptionClass\": \"\", \"trace\": \"\"}}, \"*\")"
      ],
      "text/plain": [
       "<IPython.core.display.Javascript object>"
      ]
     },
     "metadata": {},
     "output_type": "display_data"
    },
    {
     "data": {
      "text/markdown": [
       "<span style=\"color:#33cc33\">Correct:</span> \n",
       "\n",
       "Since there are relatively few missing entries in the data (the column with the greatest percentage of missing values is missing less than 20% of its entries), we can expect that dropping columns is unlikely to yield good results.  This is because we'd be throwing away a lot of valuable data, and so imputation will likely perform better."
      ],
      "text/plain": [
       "Correct: \n",
       "\n",
       "Since there are relatively few missing entries in the data (the column with the greatest percentage of missing values is missing less than 20% of its entries), we can expect that dropping columns is unlikely to yield good results.  This is because we'd be throwing away a lot of valuable data, and so imputation will likely perform better."
      ]
     },
     "metadata": {},
     "output_type": "display_data"
    }
   ],
   "source": [
    "# Check your answer (Run this code cell to receive credit!)\n",
    "step_1.b.check()"
   ]
  },
  {
   "cell_type": "code",
   "execution_count": 8,
   "id": "d0b6a5ee",
   "metadata": {
    "execution": {
     "iopub.execute_input": "2022-07-02T17:12:53.500184Z",
     "iopub.status.busy": "2022-07-02T17:12:53.499505Z",
     "iopub.status.idle": "2022-07-02T17:12:53.503396Z",
     "shell.execute_reply": "2022-07-02T17:12:53.502609Z"
    },
    "papermill": {
     "duration": 0.015678,
     "end_time": "2022-07-02T17:12:53.505466",
     "exception": false,
     "start_time": "2022-07-02T17:12:53.489788",
     "status": "completed"
    },
    "tags": []
   },
   "outputs": [],
   "source": [
    "#step_1.b.hint()"
   ]
  },
  {
   "cell_type": "markdown",
   "id": "11aa7e75",
   "metadata": {
    "papermill": {
     "duration": 0.007938,
     "end_time": "2022-07-02T17:12:53.521883",
     "exception": false,
     "start_time": "2022-07-02T17:12:53.513945",
     "status": "completed"
    },
    "tags": []
   },
   "source": [
    "To compare different approaches to dealing with missing values, you'll use the same `score_dataset()` function from the tutorial.  This function reports the [mean absolute error](https://en.wikipedia.org/wiki/Mean_absolute_error) (MAE) from a random forest model."
   ]
  },
  {
   "cell_type": "code",
   "execution_count": 9,
   "id": "85b68e22",
   "metadata": {
    "execution": {
     "iopub.execute_input": "2022-07-02T17:12:53.541610Z",
     "iopub.status.busy": "2022-07-02T17:12:53.540652Z",
     "iopub.status.idle": "2022-07-02T17:12:53.822021Z",
     "shell.execute_reply": "2022-07-02T17:12:53.820717Z"
    },
    "papermill": {
     "duration": 0.293957,
     "end_time": "2022-07-02T17:12:53.824938",
     "exception": false,
     "start_time": "2022-07-02T17:12:53.530981",
     "status": "completed"
    },
    "tags": []
   },
   "outputs": [],
   "source": [
    "from sklearn.ensemble import RandomForestRegressor\n",
    "from sklearn.metrics import mean_absolute_error\n",
    "\n",
    "# Function for comparing different approaches\n",
    "def score_dataset(X_train, X_valid, y_train, y_valid):\n",
    "    model = RandomForestRegressor(n_estimators=100, random_state=0)\n",
    "    model.fit(X_train, y_train)\n",
    "    preds = model.predict(X_valid)\n",
    "    return mean_absolute_error(y_valid, preds)"
   ]
  },
  {
   "cell_type": "markdown",
   "id": "ad11c44c",
   "metadata": {
    "papermill": {
     "duration": 0.008278,
     "end_time": "2022-07-02T17:12:53.841732",
     "exception": false,
     "start_time": "2022-07-02T17:12:53.833454",
     "status": "completed"
    },
    "tags": []
   },
   "source": [
    "# Step 2: Drop columns with missing values\n",
    "\n",
    "In this step, you'll preprocess the data in `X_train` and `X_valid` to remove columns with missing values.  Set the preprocessed DataFrames to `reduced_X_train` and `reduced_X_valid`, respectively.  "
   ]
  },
  {
   "cell_type": "code",
   "execution_count": 10,
   "id": "afbf2e86",
   "metadata": {
    "execution": {
     "iopub.execute_input": "2022-07-02T17:12:53.860410Z",
     "iopub.status.busy": "2022-07-02T17:12:53.860001Z",
     "iopub.status.idle": "2022-07-02T17:12:53.891794Z",
     "shell.execute_reply": "2022-07-02T17:12:53.890903Z"
    },
    "papermill": {
     "duration": 0.043698,
     "end_time": "2022-07-02T17:12:53.893877",
     "exception": false,
     "start_time": "2022-07-02T17:12:53.850179",
     "status": "completed"
    },
    "tags": []
   },
   "outputs": [
    {
     "data": {
      "application/javascript": [
       "parent.postMessage({\"jupyterEvent\": \"custom.exercise_interaction\", \"data\": {\"outcomeType\": 1, \"valueTowardsCompletion\": 1.0, \"interactionType\": 1, \"questionType\": 2, \"questionId\": \"2_DropMissing\", \"learnToolsVersion\": \"0.3.4\", \"failureMessage\": \"\", \"exceptionClass\": \"\", \"trace\": \"\"}}, \"*\")"
      ],
      "text/plain": [
       "<IPython.core.display.Javascript object>"
      ]
     },
     "metadata": {},
     "output_type": "display_data"
    },
    {
     "data": {
      "text/markdown": [
       "<span style=\"color:#33cc33\">Correct</span>"
      ],
      "text/plain": [
       "Correct"
      ]
     },
     "metadata": {},
     "output_type": "display_data"
    }
   ],
   "source": [
    "\n",
    "cols_with_missing = [col for col in X_train.columns\n",
    "                     if X_train[col].isnull().any()]\n",
    "\n",
    "\n",
    "reduced_X_train = X_train.drop(cols_with_missing, axis=1)\n",
    "reduced_X_valid = X_valid.drop(cols_with_missing, axis=1)\n",
    "\n",
    "\n",
    "# Check your answers\n",
    "step_2.check()"
   ]
  },
  {
   "cell_type": "code",
   "execution_count": 11,
   "id": "f72a5d89",
   "metadata": {
    "execution": {
     "iopub.execute_input": "2022-07-02T17:12:53.912371Z",
     "iopub.status.busy": "2022-07-02T17:12:53.912012Z",
     "iopub.status.idle": "2022-07-02T17:12:53.916318Z",
     "shell.execute_reply": "2022-07-02T17:12:53.915330Z"
    },
    "papermill": {
     "duration": 0.016247,
     "end_time": "2022-07-02T17:12:53.918366",
     "exception": false,
     "start_time": "2022-07-02T17:12:53.902119",
     "status": "completed"
    },
    "tags": []
   },
   "outputs": [],
   "source": [
    "# Lines below will give you a hint or solution code\n",
    "#step_2.hint()\n",
    "#step_2.solution()"
   ]
  },
  {
   "cell_type": "markdown",
   "id": "04fb574f",
   "metadata": {
    "papermill": {
     "duration": 0.007987,
     "end_time": "2022-07-02T17:12:53.934771",
     "exception": false,
     "start_time": "2022-07-02T17:12:53.926784",
     "status": "completed"
    },
    "tags": []
   },
   "source": [
    "Run the next code cell without changes to obtain the MAE for this approach."
   ]
  },
  {
   "cell_type": "code",
   "execution_count": 12,
   "id": "ab97a4de",
   "metadata": {
    "execution": {
     "iopub.execute_input": "2022-07-02T17:12:53.953266Z",
     "iopub.status.busy": "2022-07-02T17:12:53.952644Z",
     "iopub.status.idle": "2022-07-02T17:12:55.042418Z",
     "shell.execute_reply": "2022-07-02T17:12:55.041538Z"
    },
    "papermill": {
     "duration": 1.102181,
     "end_time": "2022-07-02T17:12:55.045331",
     "exception": false,
     "start_time": "2022-07-02T17:12:53.943150",
     "status": "completed"
    },
    "tags": []
   },
   "outputs": [
    {
     "name": "stdout",
     "output_type": "stream",
     "text": [
      "MAE (Drop columns with missing values):\n",
      "17837.82570776256\n"
     ]
    }
   ],
   "source": [
    "print(\"MAE (Drop columns with missing values):\")\n",
    "print(score_dataset(reduced_X_train, reduced_X_valid, y_train, y_valid))"
   ]
  },
  {
   "cell_type": "markdown",
   "id": "4386f51f",
   "metadata": {
    "papermill": {
     "duration": 0.008857,
     "end_time": "2022-07-02T17:12:55.062833",
     "exception": false,
     "start_time": "2022-07-02T17:12:55.053976",
     "status": "completed"
    },
    "tags": []
   },
   "source": [
    "# Step 3: Imputation\n",
    "\n",
    "### Part A\n",
    "\n",
    "Use the next code cell to impute missing values with the mean value along each column.  Set the preprocessed DataFrames to `imputed_X_train` and `imputed_X_valid`.  Make sure that the column names match those in `X_train` and `X_valid`."
   ]
  },
  {
   "cell_type": "code",
   "execution_count": 13,
   "id": "8c3aa5f7",
   "metadata": {
    "execution": {
     "iopub.execute_input": "2022-07-02T17:12:55.082463Z",
     "iopub.status.busy": "2022-07-02T17:12:55.081994Z",
     "iopub.status.idle": "2022-07-02T17:12:55.117147Z",
     "shell.execute_reply": "2022-07-02T17:12:55.115825Z"
    },
    "papermill": {
     "duration": 0.047894,
     "end_time": "2022-07-02T17:12:55.119693",
     "exception": false,
     "start_time": "2022-07-02T17:12:55.071799",
     "status": "completed"
    },
    "tags": []
   },
   "outputs": [
    {
     "data": {
      "application/javascript": [
       "parent.postMessage({\"jupyterEvent\": \"custom.exercise_interaction\", \"data\": {\"outcomeType\": 1, \"valueTowardsCompletion\": 1.0, \"interactionType\": 1, \"questionType\": 2, \"questionId\": \"3.1_ImputeCode\", \"learnToolsVersion\": \"0.3.4\", \"failureMessage\": \"\", \"exceptionClass\": \"\", \"trace\": \"\"}}, \"*\")"
      ],
      "text/plain": [
       "<IPython.core.display.Javascript object>"
      ]
     },
     "metadata": {},
     "output_type": "display_data"
    },
    {
     "data": {
      "text/markdown": [
       "<span style=\"color:#33cc33\">Correct</span>"
      ],
      "text/plain": [
       "Correct"
      ]
     },
     "metadata": {},
     "output_type": "display_data"
    }
   ],
   "source": [
    "from sklearn.impute import SimpleImputer\n",
    "\n",
    "my_imputer = SimpleImputer()\n",
    "imputed_X_train = pd.DataFrame(my_imputer.fit_transform(X_train))\n",
    "imputed_X_valid = pd.DataFrame(my_imputer.transform(X_valid))\n",
    "\n",
    "\n",
    "imputed_X_train.columns = X_train.columns\n",
    "imputed_X_valid.columns = X_valid.columns\n",
    "# Check your answers\n",
    "step_3.a.check()"
   ]
  },
  {
   "cell_type": "code",
   "execution_count": 14,
   "id": "5acf5860",
   "metadata": {
    "execution": {
     "iopub.execute_input": "2022-07-02T17:12:55.138554Z",
     "iopub.status.busy": "2022-07-02T17:12:55.137910Z",
     "iopub.status.idle": "2022-07-02T17:12:55.143084Z",
     "shell.execute_reply": "2022-07-02T17:12:55.141933Z"
    },
    "papermill": {
     "duration": 0.017547,
     "end_time": "2022-07-02T17:12:55.145642",
     "exception": false,
     "start_time": "2022-07-02T17:12:55.128095",
     "status": "completed"
    },
    "tags": []
   },
   "outputs": [],
   "source": [
    "# Lines below will give you a hint or solution code\n",
    "#step_3.a.hint()\n",
    "#step_3.a.solution()"
   ]
  },
  {
   "cell_type": "markdown",
   "id": "2d9d323f",
   "metadata": {
    "papermill": {
     "duration": 0.008892,
     "end_time": "2022-07-02T17:12:55.162886",
     "exception": false,
     "start_time": "2022-07-02T17:12:55.153994",
     "status": "completed"
    },
    "tags": []
   },
   "source": [
    "Run the next code cell without changes to obtain the MAE for this approach."
   ]
  },
  {
   "cell_type": "code",
   "execution_count": 15,
   "id": "e59094c7",
   "metadata": {
    "execution": {
     "iopub.execute_input": "2022-07-02T17:12:55.181590Z",
     "iopub.status.busy": "2022-07-02T17:12:55.181195Z",
     "iopub.status.idle": "2022-07-02T17:12:56.372633Z",
     "shell.execute_reply": "2022-07-02T17:12:56.371306Z"
    },
    "papermill": {
     "duration": 1.203924,
     "end_time": "2022-07-02T17:12:56.375271",
     "exception": false,
     "start_time": "2022-07-02T17:12:55.171347",
     "status": "completed"
    },
    "tags": []
   },
   "outputs": [
    {
     "name": "stdout",
     "output_type": "stream",
     "text": [
      "MAE (Imputation):\n",
      "18062.894611872147\n"
     ]
    }
   ],
   "source": [
    "print(\"MAE (Imputation):\")\n",
    "print(score_dataset(imputed_X_train, imputed_X_valid, y_train, y_valid))"
   ]
  },
  {
   "cell_type": "markdown",
   "id": "f9eb8a00",
   "metadata": {
    "papermill": {
     "duration": 0.008342,
     "end_time": "2022-07-02T17:12:56.392484",
     "exception": false,
     "start_time": "2022-07-02T17:12:56.384142",
     "status": "completed"
    },
    "tags": []
   },
   "source": [
    "### Part B\n",
    "\n",
    "Compare the MAE from each approach.  Does anything surprise you about the results?  Why do you think one approach performed better than the other?"
   ]
  },
  {
   "cell_type": "code",
   "execution_count": 16,
   "id": "2ec8ccfb",
   "metadata": {
    "execution": {
     "iopub.execute_input": "2022-07-02T17:12:56.411586Z",
     "iopub.status.busy": "2022-07-02T17:12:56.411128Z",
     "iopub.status.idle": "2022-07-02T17:12:56.420115Z",
     "shell.execute_reply": "2022-07-02T17:12:56.418952Z"
    },
    "papermill": {
     "duration": 0.021222,
     "end_time": "2022-07-02T17:12:56.422284",
     "exception": false,
     "start_time": "2022-07-02T17:12:56.401062",
     "status": "completed"
    },
    "tags": []
   },
   "outputs": [
    {
     "data": {
      "application/javascript": [
       "parent.postMessage({\"jupyterEvent\": \"custom.exercise_interaction\", \"data\": {\"outcomeType\": 1, \"valueTowardsCompletion\": 1.0, \"interactionType\": 1, \"questionType\": 4, \"questionId\": \"3.2_ImputeThought\", \"learnToolsVersion\": \"0.3.4\", \"failureMessage\": \"\", \"exceptionClass\": \"\", \"trace\": \"\"}}, \"*\")"
      ],
      "text/plain": [
       "<IPython.core.display.Javascript object>"
      ]
     },
     "metadata": {},
     "output_type": "display_data"
    },
    {
     "data": {
      "text/markdown": [
       "<span style=\"color:#33cc33\">Correct:</span> \n",
       "\n",
       "Given that thre are so few missing values in the dataset, we'd expect imputation to perform better than dropping columns entirely.  However, we see that dropping columns performs slightly better!  While this can probably partially be attributed to noise in the dataset, another potential explanation is that the imputation method is not a great match to this dataset.  That is, maybe instead of filling in the mean value, it makes more sense to set every missing value to a value of 0, to fill in the most frequently encountered value, or to use some other method.  For instance, consider the `GarageYrBlt` column (which indicates the year that the garage was built).  It's likely that in some cases, a missing value could indicate a house that does not have a garage.  Does it make more sense to fill in the median value along each column in this case?  Or could we get better results by filling in the minimum value along each column?  It's not quite clear what's best in this case, but perhaps we can rule out some options immediately - for instance, setting missing values in this column to 0 is likely to yield horrible results!"
      ],
      "text/plain": [
       "Correct: \n",
       "\n",
       "Given that thre are so few missing values in the dataset, we'd expect imputation to perform better than dropping columns entirely.  However, we see that dropping columns performs slightly better!  While this can probably partially be attributed to noise in the dataset, another potential explanation is that the imputation method is not a great match to this dataset.  That is, maybe instead of filling in the mean value, it makes more sense to set every missing value to a value of 0, to fill in the most frequently encountered value, or to use some other method.  For instance, consider the `GarageYrBlt` column (which indicates the year that the garage was built).  It's likely that in some cases, a missing value could indicate a house that does not have a garage.  Does it make more sense to fill in the median value along each column in this case?  Or could we get better results by filling in the minimum value along each column?  It's not quite clear what's best in this case, but perhaps we can rule out some options immediately - for instance, setting missing values in this column to 0 is likely to yield horrible results!"
      ]
     },
     "metadata": {},
     "output_type": "display_data"
    }
   ],
   "source": [
    "# Check your answer (Run this code cell to receive credit!)\n",
    "step_3.b.check()"
   ]
  },
  {
   "cell_type": "code",
   "execution_count": 17,
   "id": "a9609601",
   "metadata": {
    "execution": {
     "iopub.execute_input": "2022-07-02T17:12:56.442223Z",
     "iopub.status.busy": "2022-07-02T17:12:56.441754Z",
     "iopub.status.idle": "2022-07-02T17:12:56.446966Z",
     "shell.execute_reply": "2022-07-02T17:12:56.445804Z"
    },
    "papermill": {
     "duration": 0.01753,
     "end_time": "2022-07-02T17:12:56.449150",
     "exception": false,
     "start_time": "2022-07-02T17:12:56.431620",
     "status": "completed"
    },
    "tags": []
   },
   "outputs": [],
   "source": [
    "#step_3.b.hint()"
   ]
  },
  {
   "cell_type": "markdown",
   "id": "0bc4a64d",
   "metadata": {
    "papermill": {
     "duration": 0.00826,
     "end_time": "2022-07-02T17:12:56.466072",
     "exception": false,
     "start_time": "2022-07-02T17:12:56.457812",
     "status": "completed"
    },
    "tags": []
   },
   "source": [
    "# Step 4: Generate test predictions\n",
    "\n",
    "In this final step, you'll use any approach of your choosing to deal with missing values.  Once you've preprocessed the training and validation features, you'll train and evaluate a random forest model.  Then, you'll preprocess the test data before generating predictions that can be submitted to the competition!\n",
    "\n",
    "### Part A\n",
    "\n",
    "Use the next code cell to preprocess the training and validation data.  Set the preprocessed DataFrames to `final_X_train` and `final_X_valid`.  **You can use any approach of your choosing here!**  in order for this step to be marked as correct, you need only ensure:\n",
    "- the preprocessed DataFrames have the same number of columns,\n",
    "- the preprocessed DataFrames have no missing values, \n",
    "- `final_X_train` and `y_train` have the same number of rows, and\n",
    "- `final_X_valid` and `y_valid` have the same number of rows."
   ]
  },
  {
   "cell_type": "code",
   "execution_count": 18,
   "id": "ff2f64f4",
   "metadata": {
    "execution": {
     "iopub.execute_input": "2022-07-02T17:12:56.485127Z",
     "iopub.status.busy": "2022-07-02T17:12:56.484712Z",
     "iopub.status.idle": "2022-07-02T17:12:56.516371Z",
     "shell.execute_reply": "2022-07-02T17:12:56.515184Z"
    },
    "papermill": {
     "duration": 0.043997,
     "end_time": "2022-07-02T17:12:56.518629",
     "exception": false,
     "start_time": "2022-07-02T17:12:56.474632",
     "status": "completed"
    },
    "tags": []
   },
   "outputs": [
    {
     "data": {
      "application/javascript": [
       "parent.postMessage({\"jupyterEvent\": \"custom.exercise_interaction\", \"data\": {\"outcomeType\": 1, \"valueTowardsCompletion\": 1.0, \"interactionType\": 1, \"questionType\": 2, \"questionId\": \"4.1_PredsCodeA\", \"learnToolsVersion\": \"0.3.4\", \"failureMessage\": \"\", \"exceptionClass\": \"\", \"trace\": \"\"}}, \"*\")"
      ],
      "text/plain": [
       "<IPython.core.display.Javascript object>"
      ]
     },
     "metadata": {},
     "output_type": "display_data"
    },
    {
     "data": {
      "text/markdown": [
       "<span style=\"color:#33cc33\">Correct</span>"
      ],
      "text/plain": [
       "Correct"
      ]
     },
     "metadata": {},
     "output_type": "display_data"
    }
   ],
   "source": [
    "\n",
    "final_imputer = SimpleImputer(strategy='median')\n",
    "final_X_train = pd.DataFrame(final_imputer.fit_transform(X_train))\n",
    "final_X_valid = pd.DataFrame(final_imputer.transform(X_valid))\n",
    "\n",
    "final_X_train.columns = X_train.columns\n",
    "final_X_valid.columns = X_valid.columns\n",
    "\n",
    "# Check your answers\n",
    "step_4.a.check()"
   ]
  },
  {
   "cell_type": "code",
   "execution_count": 19,
   "id": "9bec736a",
   "metadata": {
    "execution": {
     "iopub.execute_input": "2022-07-02T17:12:56.539117Z",
     "iopub.status.busy": "2022-07-02T17:12:56.538674Z",
     "iopub.status.idle": "2022-07-02T17:12:56.543648Z",
     "shell.execute_reply": "2022-07-02T17:12:56.542348Z"
    },
    "papermill": {
     "duration": 0.017738,
     "end_time": "2022-07-02T17:12:56.545713",
     "exception": false,
     "start_time": "2022-07-02T17:12:56.527975",
     "status": "completed"
    },
    "tags": []
   },
   "outputs": [],
   "source": [
    "# Lines below will give you a hint or solution code\n",
    "#step_4.a.hint()\n",
    "#step_4.a.solution()"
   ]
  },
  {
   "cell_type": "markdown",
   "id": "92256acf",
   "metadata": {
    "papermill": {
     "duration": 0.00863,
     "end_time": "2022-07-02T17:12:56.563427",
     "exception": false,
     "start_time": "2022-07-02T17:12:56.554797",
     "status": "completed"
    },
    "tags": []
   },
   "source": [
    "Run the next code cell to train and evaluate a random forest model.  (*Note that we don't use the `score_dataset()` function above, because we will soon use the trained model to generate test predictions!*)"
   ]
  },
  {
   "cell_type": "code",
   "execution_count": 20,
   "id": "abb38207",
   "metadata": {
    "execution": {
     "iopub.execute_input": "2022-07-02T17:12:56.582735Z",
     "iopub.status.busy": "2022-07-02T17:12:56.582341Z",
     "iopub.status.idle": "2022-07-02T17:12:57.781823Z",
     "shell.execute_reply": "2022-07-02T17:12:57.780176Z"
    },
    "papermill": {
     "duration": 1.212338,
     "end_time": "2022-07-02T17:12:57.784690",
     "exception": false,
     "start_time": "2022-07-02T17:12:56.572352",
     "status": "completed"
    },
    "tags": []
   },
   "outputs": [
    {
     "name": "stdout",
     "output_type": "stream",
     "text": [
      "MAE (Your approach):\n",
      "17791.59899543379\n"
     ]
    }
   ],
   "source": [
    "# Define and fit model\n",
    "model = RandomForestRegressor(n_estimators=100, random_state=0)\n",
    "model.fit(final_X_train, y_train)\n",
    "\n",
    "# Get validation predictions and MAE\n",
    "preds_valid = model.predict(final_X_valid)\n",
    "print(\"MAE (Your approach):\")\n",
    "print(mean_absolute_error(y_valid, preds_valid))"
   ]
  },
  {
   "cell_type": "markdown",
   "id": "5ff14169",
   "metadata": {
    "papermill": {
     "duration": 0.009442,
     "end_time": "2022-07-02T17:12:57.803898",
     "exception": false,
     "start_time": "2022-07-02T17:12:57.794456",
     "status": "completed"
    },
    "tags": []
   },
   "source": [
    "### Part B\n",
    "\n",
    "Use the next code cell to preprocess your test data.  Make sure that you use a method that agrees with how you preprocessed the training and validation data, and set the preprocessed test features to `final_X_test`.\n",
    "\n",
    "Then, use the preprocessed test features and the trained model to generate test predictions in `preds_test`.\n",
    "\n",
    "In order for this step to be marked correct, you need only ensure:\n",
    "- the preprocessed test DataFrame has no missing values, and\n",
    "- `final_X_test` has the same number of rows as `X_test`."
   ]
  },
  {
   "cell_type": "code",
   "execution_count": 21,
   "id": "575e4295",
   "metadata": {
    "execution": {
     "iopub.execute_input": "2022-07-02T17:12:57.824597Z",
     "iopub.status.busy": "2022-07-02T17:12:57.823507Z",
     "iopub.status.idle": "2022-07-02T17:12:57.885781Z",
     "shell.execute_reply": "2022-07-02T17:12:57.884721Z"
    },
    "papermill": {
     "duration": 0.07498,
     "end_time": "2022-07-02T17:12:57.888177",
     "exception": false,
     "start_time": "2022-07-02T17:12:57.813197",
     "status": "completed"
    },
    "tags": []
   },
   "outputs": [
    {
     "name": "stderr",
     "output_type": "stream",
     "text": [
      "/opt/conda/lib/python3.7/site-packages/sklearn/base.py:451: UserWarning: X does not have valid feature names, but RandomForestRegressor was fitted with feature names\n",
      "  \"X does not have valid feature names, but\"\n"
     ]
    },
    {
     "data": {
      "application/javascript": [
       "parent.postMessage({\"jupyterEvent\": \"custom.exercise_interaction\", \"data\": {\"outcomeType\": 1, \"valueTowardsCompletion\": 1.0, \"interactionType\": 1, \"questionType\": 2, \"questionId\": \"4.2_PredsCodeB\", \"learnToolsVersion\": \"0.3.4\", \"failureMessage\": \"\", \"exceptionClass\": \"\", \"trace\": \"\"}}, \"*\")"
      ],
      "text/plain": [
       "<IPython.core.display.Javascript object>"
      ]
     },
     "metadata": {},
     "output_type": "display_data"
    },
    {
     "data": {
      "text/markdown": [
       "<span style=\"color:#33cc33\">Correct</span>"
      ],
      "text/plain": [
       "Correct"
      ]
     },
     "metadata": {},
     "output_type": "display_data"
    }
   ],
   "source": [
    "# Fill in the line below: preprocess test data\n",
    "final_X_test = pd.DataFrame(final_imputer.transform(X_test))\n",
    "\n",
    "# Fill in the line below: get test predictions\n",
    "preds_test = model.predict(final_X_test)\n",
    "\n",
    "\n",
    "# Check your answers\n",
    "step_4.b.check()"
   ]
  },
  {
   "cell_type": "code",
   "execution_count": 22,
   "id": "a41f2859",
   "metadata": {
    "execution": {
     "iopub.execute_input": "2022-07-02T17:12:57.908838Z",
     "iopub.status.busy": "2022-07-02T17:12:57.908408Z",
     "iopub.status.idle": "2022-07-02T17:12:57.913371Z",
     "shell.execute_reply": "2022-07-02T17:12:57.912232Z"
    },
    "papermill": {
     "duration": 0.018653,
     "end_time": "2022-07-02T17:12:57.915981",
     "exception": false,
     "start_time": "2022-07-02T17:12:57.897328",
     "status": "completed"
    },
    "tags": []
   },
   "outputs": [],
   "source": [
    "# Lines below will give you a hint or solution code\n",
    "#step_4.b.hint()\n",
    "#step_4.b.solution()"
   ]
  },
  {
   "cell_type": "markdown",
   "id": "d403bf15",
   "metadata": {
    "papermill": {
     "duration": 0.008925,
     "end_time": "2022-07-02T17:12:57.934005",
     "exception": false,
     "start_time": "2022-07-02T17:12:57.925080",
     "status": "completed"
    },
    "tags": []
   },
   "source": [
    "Run the next code cell without changes to save your results to a CSV file that can be submitted directly to the competition."
   ]
  },
  {
   "cell_type": "code",
   "execution_count": 23,
   "id": "b73dc3c2",
   "metadata": {
    "execution": {
     "iopub.execute_input": "2022-07-02T17:12:57.954513Z",
     "iopub.status.busy": "2022-07-02T17:12:57.954025Z",
     "iopub.status.idle": "2022-07-02T17:12:57.966497Z",
     "shell.execute_reply": "2022-07-02T17:12:57.965422Z"
    },
    "papermill": {
     "duration": 0.025725,
     "end_time": "2022-07-02T17:12:57.968894",
     "exception": false,
     "start_time": "2022-07-02T17:12:57.943169",
     "status": "completed"
    },
    "tags": []
   },
   "outputs": [],
   "source": [
    "# Save test predictions to file\n",
    "output = pd.DataFrame({'Id': X_test.index,\n",
    "                       'SalePrice': preds_test})\n",
    "output.to_csv('submission.csv', index=False)"
   ]
  },
  {
   "cell_type": "markdown",
   "id": "1e41edc4",
   "metadata": {
    "papermill": {
     "duration": 0.009295,
     "end_time": "2022-07-02T17:12:57.987281",
     "exception": false,
     "start_time": "2022-07-02T17:12:57.977986",
     "status": "completed"
    },
    "tags": []
   },
   "source": [
    "# Submit your results\n",
    "\n",
    "Once you have successfully completed Step 4, you're ready to submit your results to the leaderboard!  (_You also learned how to do this in the previous exercise.  If you need a reminder of how to do this, please use the instructions below._)  \n",
    "\n",
    "First, you'll need to join the competition if you haven't already.  So open a new window by clicking on [this link](https://www.kaggle.com/c/home-data-for-ml-course).  Then click on the **Join Competition** button.\n",
    "\n",
    "![join competition image](https://i.imgur.com/wLmFtH3.png)\n",
    "\n",
    "Next, follow the instructions below:\n",
    "1. Begin by clicking on the **Save Version** button in the top right corner of the window.  This will generate a pop-up window.  \n",
    "2. Ensure that the **Save and Run All** option is selected, and then click on the **Save** button.\n",
    "3. This generates a window in the bottom left corner of the notebook.  After it has finished running, click on the number to the right of the **Save Version** button.  This pulls up a list of versions on the right of the screen.  Click on the ellipsis **(...)** to the right of the most recent version, and select **Open in Viewer**.  This brings you into view mode of the same page. You will need to scroll down to get back to these instructions.\n",
    "4. Click on the **Output** tab on the right of the screen.  Then, click on the file you would like to submit, and click on the **Submit** button to submit your results to the leaderboard.\n",
    "\n",
    "You have now successfully submitted to the competition!\n",
    "\n",
    "If you want to keep working to improve your performance, select the **Edit** button in the top right of the screen. Then you can change your code and repeat the process. There's a lot of room to improve, and you will climb up the leaderboard as you work.\n",
    "\n",
    "\n",
    "# Keep going\n",
    "\n",
    "Move on to learn what **[categorical variables](https://www.kaggle.com/alexisbcook/categorical-variables)** are, along with how to incorporate them into your machine learning models.  Categorical variables are very common in real-world data, but you'll get an error if you try to plug them into your models without processing them first!"
   ]
  },
  {
   "cell_type": "markdown",
   "id": "2fe6fc4e",
   "metadata": {
    "papermill": {
     "duration": 0.008677,
     "end_time": "2022-07-02T17:12:58.005287",
     "exception": false,
     "start_time": "2022-07-02T17:12:57.996610",
     "status": "completed"
    },
    "tags": []
   },
   "source": [
    "---\n",
    "\n",
    "\n",
    "\n",
    "\n",
    "*Have questions or comments? Visit the [course discussion forum](https://www.kaggle.com/learn/intermediate-machine-learning/discussion) to chat with other learners.*"
   ]
  }
 ],
 "metadata": {
  "kernelspec": {
   "display_name": "Python 3",
   "language": "python",
   "name": "python3"
  },
  "language_info": {
   "codemirror_mode": {
    "name": "ipython",
    "version": 3
   },
   "file_extension": ".py",
   "mimetype": "text/x-python",
   "name": "python",
   "nbconvert_exporter": "python",
   "pygments_lexer": "ipython3",
   "version": "3.7.12"
  },
  "papermill": {
   "default_parameters": {},
   "duration": 16.901342,
   "end_time": "2022-07-02T17:12:58.837419",
   "environment_variables": {},
   "exception": null,
   "input_path": "__notebook__.ipynb",
   "output_path": "__notebook__.ipynb",
   "parameters": {},
   "start_time": "2022-07-02T17:12:41.936077",
   "version": "2.3.4"
  }
 },
 "nbformat": 4,
 "nbformat_minor": 5
}
