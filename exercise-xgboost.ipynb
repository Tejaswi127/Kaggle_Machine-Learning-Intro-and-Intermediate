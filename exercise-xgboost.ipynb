{
 "cells": [
  {
   "cell_type": "markdown",
   "id": "c61a53fe",
   "metadata": {
    "papermill": {
     "duration": 0.005688,
     "end_time": "2022-07-02T17:40:52.645548",
     "exception": false,
     "start_time": "2022-07-02T17:40:52.639860",
     "status": "completed"
    },
    "tags": []
   },
   "source": [
    "**This notebook is an exercise in the [Intermediate Machine Learning](https://www.kaggle.com/learn/intermediate-machine-learning) course.  You can reference the tutorial at [this link](https://www.kaggle.com/alexisbcook/xgboost).**\n",
    "\n",
    "---\n"
   ]
  },
  {
   "cell_type": "markdown",
   "id": "e4f12a00",
   "metadata": {
    "papermill": {
     "duration": 0.004085,
     "end_time": "2022-07-02T17:40:52.654342",
     "exception": false,
     "start_time": "2022-07-02T17:40:52.650257",
     "status": "completed"
    },
    "tags": []
   },
   "source": [
    "In this exercise, you will use your new knowledge to train a model with **gradient boosting**.\n",
    "\n",
    "# Setup\n",
    "\n",
    "The questions below will give you feedback on your work. Run the following cell to set up the feedback system."
   ]
  },
  {
   "cell_type": "code",
   "execution_count": 1,
   "id": "8a1b0230",
   "metadata": {
    "execution": {
     "iopub.execute_input": "2022-07-02T17:40:52.666301Z",
     "iopub.status.busy": "2022-07-02T17:40:52.665354Z",
     "iopub.status.idle": "2022-07-02T17:40:54.967087Z",
     "shell.execute_reply": "2022-07-02T17:40:54.966146Z"
    },
    "papermill": {
     "duration": 2.311721,
     "end_time": "2022-07-02T17:40:54.970443",
     "exception": false,
     "start_time": "2022-07-02T17:40:52.658722",
     "status": "completed"
    },
    "tags": []
   },
   "outputs": [
    {
     "name": "stdout",
     "output_type": "stream",
     "text": [
      "Setup Complete\n"
     ]
    }
   ],
   "source": [
    "# Set up code checking\n",
    "import os\n",
    "if not os.path.exists(\"../input/train.csv\"):\n",
    "    os.symlink(\"../input/home-data-for-ml-course/train.csv\", \"../input/train.csv\")  \n",
    "    os.symlink(\"../input/home-data-for-ml-course/test.csv\", \"../input/test.csv\") \n",
    "from learntools.core import binder\n",
    "binder.bind(globals())\n",
    "from learntools.ml_intermediate.ex6 import *\n",
    "print(\"Setup Complete\")"
   ]
  },
  {
   "cell_type": "markdown",
   "id": "b25977f4",
   "metadata": {
    "papermill": {
     "duration": 0.004446,
     "end_time": "2022-07-02T17:40:54.980593",
     "exception": false,
     "start_time": "2022-07-02T17:40:54.976147",
     "status": "completed"
    },
    "tags": []
   },
   "source": [
    "You will work with the [Housing Prices Competition for Kaggle Learn Users](https://www.kaggle.com/c/home-data-for-ml-course) dataset from the previous exercise. \n",
    "\n",
    "![Ames Housing dataset image](https://i.imgur.com/lTJVG4e.png)\n",
    "\n",
    "Run the next code cell without changes to load the training and validation sets in `X_train`, `X_valid`, `y_train`, and `y_valid`.  The test set is loaded in `X_test`."
   ]
  },
  {
   "cell_type": "code",
   "execution_count": 2,
   "id": "0eeb8b05",
   "metadata": {
    "execution": {
     "iopub.execute_input": "2022-07-02T17:40:54.991621Z",
     "iopub.status.busy": "2022-07-02T17:40:54.990925Z",
     "iopub.status.idle": "2022-07-02T17:40:55.161431Z",
     "shell.execute_reply": "2022-07-02T17:40:55.160296Z"
    },
    "papermill": {
     "duration": 0.178941,
     "end_time": "2022-07-02T17:40:55.164071",
     "exception": false,
     "start_time": "2022-07-02T17:40:54.985130",
     "status": "completed"
    },
    "tags": []
   },
   "outputs": [],
   "source": [
    "import pandas as pd\n",
    "from sklearn.model_selection import train_test_split\n",
    "\n",
    "# Read the data\n",
    "X = pd.read_csv('../input/train.csv', index_col='Id')\n",
    "X_test_full = pd.read_csv('../input/test.csv', index_col='Id')\n",
    "\n",
    "# Remove rows with missing target, separate target from predictors\n",
    "X.dropna(axis=0, subset=['SalePrice'], inplace=True)\n",
    "y = X.SalePrice              \n",
    "X.drop(['SalePrice'], axis=1, inplace=True)\n",
    "\n",
    "# Break off validation set from training data\n",
    "X_train_full, X_valid_full, y_train, y_valid = train_test_split(X, y, train_size=0.8, test_size=0.2,\n",
    "                                                                random_state=0)\n",
    "\n",
    "# \"Cardinality\" means the number of unique values in a column\n",
    "# Select categorical columns with relatively low cardinality (convenient but arbitrary)\n",
    "low_cardinality_cols = [cname for cname in X_train_full.columns if X_train_full[cname].nunique() < 10 and \n",
    "                        X_train_full[cname].dtype == \"object\"]\n",
    "\n",
    "# Select numeric columns\n",
    "numeric_cols = [cname for cname in X_train_full.columns if X_train_full[cname].dtype in ['int64', 'float64']]\n",
    "\n",
    "# Keep selected columns only\n",
    "my_cols = low_cardinality_cols + numeric_cols\n",
    "X_train = X_train_full[my_cols].copy()\n",
    "X_valid = X_valid_full[my_cols].copy()\n",
    "X_test = X_test_full[my_cols].copy()\n",
    "\n",
    "# One-hot encode the data (to shorten the code, we use pandas)\n",
    "X_train = pd.get_dummies(X_train)\n",
    "X_valid = pd.get_dummies(X_valid)\n",
    "X_test = pd.get_dummies(X_test)\n",
    "X_train, X_valid = X_train.align(X_valid, join='left', axis=1)\n",
    "X_train, X_test = X_train.align(X_test, join='left', axis=1)"
   ]
  },
  {
   "cell_type": "markdown",
   "id": "82052c21",
   "metadata": {
    "papermill": {
     "duration": 0.004299,
     "end_time": "2022-07-02T17:40:55.173236",
     "exception": false,
     "start_time": "2022-07-02T17:40:55.168937",
     "status": "completed"
    },
    "tags": []
   },
   "source": [
    "# Step 1: Build model\n",
    "\n",
    "### Part A\n",
    "\n",
    "In this step, you'll build and train your first model with gradient boosting.\n",
    "\n",
    "- Begin by setting `my_model_1` to an XGBoost model.  Use the [XGBRegressor](https://xgboost.readthedocs.io/en/latest/python/python_api.html#xgboost.XGBRegressor) class, and set the random seed to 0 (`random_state=0`).  **Leave all other parameters as default.**\n",
    "- Then, fit the model to the training data in `X_train` and `y_train`."
   ]
  },
  {
   "cell_type": "code",
   "execution_count": 3,
   "id": "cb6aff5e",
   "metadata": {
    "execution": {
     "iopub.execute_input": "2022-07-02T17:40:55.184308Z",
     "iopub.status.busy": "2022-07-02T17:40:55.183685Z",
     "iopub.status.idle": "2022-07-02T17:40:56.113349Z",
     "shell.execute_reply": "2022-07-02T17:40:56.112066Z"
    },
    "papermill": {
     "duration": 0.938301,
     "end_time": "2022-07-02T17:40:56.116113",
     "exception": false,
     "start_time": "2022-07-02T17:40:55.177812",
     "status": "completed"
    },
    "tags": []
   },
   "outputs": [
    {
     "data": {
      "application/javascript": [
       "parent.postMessage({\"jupyterEvent\": \"custom.exercise_interaction\", \"data\": {\"outcomeType\": 1, \"valueTowardsCompletion\": 0.5, \"interactionType\": 1, \"questionType\": 2, \"questionId\": \"1.1_Model1A\", \"learnToolsVersion\": \"0.3.4\", \"failureMessage\": \"\", \"exceptionClass\": \"\", \"trace\": \"\"}}, \"*\")"
      ],
      "text/plain": [
       "<IPython.core.display.Javascript object>"
      ]
     },
     "metadata": {},
     "output_type": "display_data"
    },
    {
     "data": {
      "text/markdown": [
       "<span style=\"color:#33cc33\">Correct</span>"
      ],
      "text/plain": [
       "Correct"
      ]
     },
     "metadata": {},
     "output_type": "display_data"
    }
   ],
   "source": [
    "from xgboost import XGBRegressor\n",
    "\n",
    "# Define the model\n",
    "my_model_1 = XGBRegressor(random_state=0)\n",
    "# Your code here\n",
    "\n",
    "# Fit the model\n",
    "my_model_1.fit(X_train, y_train)\n",
    " # Your code here\n",
    "\n",
    "# Check your answer\n",
    "step_1.a.check()"
   ]
  },
  {
   "cell_type": "code",
   "execution_count": 4,
   "id": "a6f526a7",
   "metadata": {
    "execution": {
     "iopub.execute_input": "2022-07-02T17:40:56.128254Z",
     "iopub.status.busy": "2022-07-02T17:40:56.127376Z",
     "iopub.status.idle": "2022-07-02T17:40:56.131658Z",
     "shell.execute_reply": "2022-07-02T17:40:56.130839Z"
    },
    "papermill": {
     "duration": 0.012267,
     "end_time": "2022-07-02T17:40:56.133561",
     "exception": false,
     "start_time": "2022-07-02T17:40:56.121294",
     "status": "completed"
    },
    "tags": []
   },
   "outputs": [],
   "source": [
    "# Lines below will give you a hint or solution code\n",
    "#step_1.a.hint()\n",
    "#step_1.a.solution()"
   ]
  },
  {
   "cell_type": "markdown",
   "id": "7040a6be",
   "metadata": {
    "papermill": {
     "duration": 0.004538,
     "end_time": "2022-07-02T17:40:56.144422",
     "exception": false,
     "start_time": "2022-07-02T17:40:56.139884",
     "status": "completed"
    },
    "tags": []
   },
   "source": [
    "### Part B\n",
    "\n",
    "Set `predictions_1` to the model's predictions for the validation data.  Recall that the validation features are stored in `X_valid`."
   ]
  },
  {
   "cell_type": "code",
   "execution_count": 5,
   "id": "45a3254a",
   "metadata": {
    "execution": {
     "iopub.execute_input": "2022-07-02T17:40:56.156064Z",
     "iopub.status.busy": "2022-07-02T17:40:56.155490Z",
     "iopub.status.idle": "2022-07-02T17:40:56.175067Z",
     "shell.execute_reply": "2022-07-02T17:40:56.174098Z"
    },
    "papermill": {
     "duration": 0.02783,
     "end_time": "2022-07-02T17:40:56.177153",
     "exception": false,
     "start_time": "2022-07-02T17:40:56.149323",
     "status": "completed"
    },
    "tags": []
   },
   "outputs": [
    {
     "data": {
      "application/javascript": [
       "parent.postMessage({\"jupyterEvent\": \"custom.exercise_interaction\", \"data\": {\"outcomeType\": 1, \"valueTowardsCompletion\": 0.5, \"interactionType\": 1, \"questionType\": 2, \"questionId\": \"1.2_Model1B\", \"learnToolsVersion\": \"0.3.4\", \"failureMessage\": \"\", \"exceptionClass\": \"\", \"trace\": \"\"}}, \"*\")"
      ],
      "text/plain": [
       "<IPython.core.display.Javascript object>"
      ]
     },
     "metadata": {},
     "output_type": "display_data"
    },
    {
     "data": {
      "text/markdown": [
       "<span style=\"color:#33cc33\">Correct</span>"
      ],
      "text/plain": [
       "Correct"
      ]
     },
     "metadata": {},
     "output_type": "display_data"
    }
   ],
   "source": [
    "from sklearn.metrics import mean_absolute_error\n",
    "\n",
    "# Get predictions\n",
    "predictions_1 = my_model_1.predict(X_valid) # Your code here\n",
    "\n",
    "# Check your answer\n",
    "step_1.b.check()"
   ]
  },
  {
   "cell_type": "code",
   "execution_count": 6,
   "id": "53c37b26",
   "metadata": {
    "execution": {
     "iopub.execute_input": "2022-07-02T17:40:56.188452Z",
     "iopub.status.busy": "2022-07-02T17:40:56.188088Z",
     "iopub.status.idle": "2022-07-02T17:40:56.192502Z",
     "shell.execute_reply": "2022-07-02T17:40:56.191271Z"
    },
    "papermill": {
     "duration": 0.012508,
     "end_time": "2022-07-02T17:40:56.194584",
     "exception": false,
     "start_time": "2022-07-02T17:40:56.182076",
     "status": "completed"
    },
    "tags": []
   },
   "outputs": [],
   "source": [
    "# Lines below will give you a hint or solution code\n",
    "#step_1.b.hint()\n",
    "#step_1.b.solution()"
   ]
  },
  {
   "cell_type": "markdown",
   "id": "3170e860",
   "metadata": {
    "papermill": {
     "duration": 0.004516,
     "end_time": "2022-07-02T17:40:56.204019",
     "exception": false,
     "start_time": "2022-07-02T17:40:56.199503",
     "status": "completed"
    },
    "tags": []
   },
   "source": [
    "### Part C\n",
    "\n",
    "Finally, use the `mean_absolute_error()` function to calculate the mean absolute error (MAE) corresponding to the predictions for the validation set.  Recall that the labels for the validation data are stored in `y_valid`."
   ]
  },
  {
   "cell_type": "code",
   "execution_count": 7,
   "id": "7070ad78",
   "metadata": {
    "execution": {
     "iopub.execute_input": "2022-07-02T17:40:56.215472Z",
     "iopub.status.busy": "2022-07-02T17:40:56.214771Z",
     "iopub.status.idle": "2022-07-02T17:40:56.225287Z",
     "shell.execute_reply": "2022-07-02T17:40:56.224111Z"
    },
    "papermill": {
     "duration": 0.018492,
     "end_time": "2022-07-02T17:40:56.227291",
     "exception": false,
     "start_time": "2022-07-02T17:40:56.208799",
     "status": "completed"
    },
    "tags": []
   },
   "outputs": [
    {
     "name": "stdout",
     "output_type": "stream",
     "text": [
      "Mean Absolute Error: 17662.736729452055\n"
     ]
    },
    {
     "data": {
      "application/javascript": [
       "parent.postMessage({\"jupyterEvent\": \"custom.exercise_interaction\", \"data\": {\"outcomeType\": 1, \"valueTowardsCompletion\": 0.5, \"interactionType\": 1, \"questionType\": 2, \"questionId\": \"1.3_Model1C\", \"learnToolsVersion\": \"0.3.4\", \"failureMessage\": \"\", \"exceptionClass\": \"\", \"trace\": \"\"}}, \"*\")"
      ],
      "text/plain": [
       "<IPython.core.display.Javascript object>"
      ]
     },
     "metadata": {},
     "output_type": "display_data"
    },
    {
     "data": {
      "text/markdown": [
       "<span style=\"color:#33cc33\">Correct</span>"
      ],
      "text/plain": [
       "Correct"
      ]
     },
     "metadata": {},
     "output_type": "display_data"
    }
   ],
   "source": [
    "# Calculate MAE\n",
    "mae_1 = mean_absolute_error(predictions_1, y_valid)\n",
    "# Your code here\n",
    "\n",
    "# Uncomment to print MAE\n",
    "print(\"Mean Absolute Error:\" , mae_1)\n",
    "\n",
    "# Check your answer\n",
    "step_1.c.check()"
   ]
  },
  {
   "cell_type": "code",
   "execution_count": 8,
   "id": "9ca44a33",
   "metadata": {
    "execution": {
     "iopub.execute_input": "2022-07-02T17:40:56.239608Z",
     "iopub.status.busy": "2022-07-02T17:40:56.238937Z",
     "iopub.status.idle": "2022-07-02T17:40:56.242439Z",
     "shell.execute_reply": "2022-07-02T17:40:56.241721Z"
    },
    "papermill": {
     "duration": 0.011763,
     "end_time": "2022-07-02T17:40:56.244246",
     "exception": false,
     "start_time": "2022-07-02T17:40:56.232483",
     "status": "completed"
    },
    "tags": []
   },
   "outputs": [],
   "source": [
    "# Lines below will give you a hint or solution code\n",
    "#step_1.c.hint()\n",
    "#step_1.c.solution()"
   ]
  },
  {
   "cell_type": "markdown",
   "id": "9f9d5c13",
   "metadata": {
    "papermill": {
     "duration": 0.00494,
     "end_time": "2022-07-02T17:40:56.254253",
     "exception": false,
     "start_time": "2022-07-02T17:40:56.249313",
     "status": "completed"
    },
    "tags": []
   },
   "source": [
    "# Step 2: Improve the model\n",
    "\n",
    "Now that you've trained a default model as baseline, it's time to tinker with the parameters, to see if you can get better performance!\n",
    "- Begin by setting `my_model_2` to an XGBoost model, using the [XGBRegressor](https://xgboost.readthedocs.io/en/latest/python/python_api.html#xgboost.XGBRegressor) class.  Use what you learned in the previous tutorial to figure out how to change the default parameters (like `n_estimators` and `learning_rate`) to get better results.\n",
    "- Then, fit the model to the training data in `X_train` and `y_train`.\n",
    "- Set `predictions_2` to the model's predictions for the validation data.  Recall that the validation features are stored in `X_valid`.\n",
    "- Finally, use the `mean_absolute_error()` function to calculate the mean absolute error (MAE) corresponding to the predictions on the validation set.  Recall that the labels for the validation data are stored in `y_valid`.\n",
    "\n",
    "In order for this step to be marked correct, your model in `my_model_2` must attain lower MAE than the model in `my_model_1`. "
   ]
  },
  {
   "cell_type": "code",
   "execution_count": 9,
   "id": "2e0ad769",
   "metadata": {
    "execution": {
     "iopub.execute_input": "2022-07-02T17:40:56.267309Z",
     "iopub.status.busy": "2022-07-02T17:40:56.266655Z",
     "iopub.status.idle": "2022-07-02T17:41:05.175506Z",
     "shell.execute_reply": "2022-07-02T17:41:05.174341Z"
    },
    "papermill": {
     "duration": 8.91832,
     "end_time": "2022-07-02T17:41:05.177917",
     "exception": false,
     "start_time": "2022-07-02T17:40:56.259597",
     "status": "completed"
    },
    "tags": []
   },
   "outputs": [
    {
     "name": "stdout",
     "output_type": "stream",
     "text": [
      "Mean Absolute Error: 16688.691513270547\n"
     ]
    },
    {
     "data": {
      "application/javascript": [
       "parent.postMessage({\"jupyterEvent\": \"custom.exercise_interaction\", \"data\": {\"outcomeType\": 1, \"valueTowardsCompletion\": 0.5, \"interactionType\": 1, \"questionType\": 2, \"questionId\": \"2_Model2\", \"learnToolsVersion\": \"0.3.4\", \"failureMessage\": \"\", \"exceptionClass\": \"\", \"trace\": \"\"}}, \"*\")"
      ],
      "text/plain": [
       "<IPython.core.display.Javascript object>"
      ]
     },
     "metadata": {},
     "output_type": "display_data"
    },
    {
     "data": {
      "text/markdown": [
       "<span style=\"color:#33cc33\">Correct</span>"
      ],
      "text/plain": [
       "Correct"
      ]
     },
     "metadata": {},
     "output_type": "display_data"
    }
   ],
   "source": [
    "# Define the model\n",
    "my_model_2 = XGBRegressor(n_estimators=1000, learning_rate=0.05)\n",
    "# Your code here\n",
    "\n",
    "# Fit the model\n",
    "my_model_2.fit(X_train, y_train)\n",
    "# Your code here\n",
    "\n",
    "# Get predictions\n",
    "predictions_2 = my_model_2.predict(X_valid)\n",
    " # Your code here\n",
    "\n",
    "# Calculate MAE\n",
    "mae_2 = mean_absolute_error(predictions_2, y_valid)\n",
    "\n",
    "# Uncomment to print MAE\n",
    "print(\"Mean Absolute Error:\" , mae_2)\n",
    "\n",
    "# Check your answer\n",
    "step_2.check()"
   ]
  },
  {
   "cell_type": "code",
   "execution_count": 10,
   "id": "96296f89",
   "metadata": {
    "execution": {
     "iopub.execute_input": "2022-07-02T17:41:05.191115Z",
     "iopub.status.busy": "2022-07-02T17:41:05.190716Z",
     "iopub.status.idle": "2022-07-02T17:41:05.195138Z",
     "shell.execute_reply": "2022-07-02T17:41:05.193891Z"
    },
    "papermill": {
     "duration": 0.013558,
     "end_time": "2022-07-02T17:41:05.197393",
     "exception": false,
     "start_time": "2022-07-02T17:41:05.183835",
     "status": "completed"
    },
    "tags": []
   },
   "outputs": [],
   "source": [
    "# Lines below will give you a hint or solution code\n",
    "#step_2.hint()\n",
    "#step_2.solution()"
   ]
  },
  {
   "cell_type": "markdown",
   "id": "3ad43564",
   "metadata": {
    "papermill": {
     "duration": 0.005256,
     "end_time": "2022-07-02T17:41:05.208060",
     "exception": false,
     "start_time": "2022-07-02T17:41:05.202804",
     "status": "completed"
    },
    "tags": []
   },
   "source": [
    "# Step 3: Break the model\n",
    "\n",
    "In this step, you will create a model that performs worse than the original model in Step 1.  This will help you to develop your intuition for how to set parameters.  You might even find that you accidentally get better performance, which is ultimately a nice problem to have and a valuable learning experience!\n",
    "- Begin by setting `my_model_3` to an XGBoost model, using the [XGBRegressor](https://xgboost.readthedocs.io/en/latest/python/python_api.html#xgboost.XGBRegressor) class.  Use what you learned in the previous tutorial to figure out how to change the default parameters (like `n_estimators` and `learning_rate`) to design a model to get high MAE.\n",
    "- Then, fit the model to the training data in `X_train` and `y_train`.\n",
    "- Set `predictions_3` to the model's predictions for the validation data.  Recall that the validation features are stored in `X_valid`.\n",
    "- Finally, use the `mean_absolute_error()` function to calculate the mean absolute error (MAE) corresponding to the predictions on the validation set.  Recall that the labels for the validation data are stored in `y_valid`.\n",
    "\n",
    "In order for this step to be marked correct, your model in `my_model_3` must attain higher MAE than the model in `my_model_1`. "
   ]
  },
  {
   "cell_type": "code",
   "execution_count": 11,
   "id": "7c19767b",
   "metadata": {
    "execution": {
     "iopub.execute_input": "2022-07-02T17:41:05.220733Z",
     "iopub.status.busy": "2022-07-02T17:41:05.220347Z",
     "iopub.status.idle": "2022-07-02T17:41:05.284195Z",
     "shell.execute_reply": "2022-07-02T17:41:05.282954Z"
    },
    "papermill": {
     "duration": 0.073088,
     "end_time": "2022-07-02T17:41:05.286552",
     "exception": false,
     "start_time": "2022-07-02T17:41:05.213464",
     "status": "completed"
    },
    "tags": []
   },
   "outputs": [
    {
     "name": "stdout",
     "output_type": "stream",
     "text": [
      "Mean Absolute Error: 127895.0828807256\n"
     ]
    },
    {
     "data": {
      "application/javascript": [
       "parent.postMessage({\"jupyterEvent\": \"custom.exercise_interaction\", \"data\": {\"outcomeType\": 1, \"valueTowardsCompletion\": 0.5, \"interactionType\": 1, \"questionType\": 2, \"questionId\": \"3_Model3\", \"learnToolsVersion\": \"0.3.4\", \"failureMessage\": \"\", \"exceptionClass\": \"\", \"trace\": \"\"}}, \"*\")"
      ],
      "text/plain": [
       "<IPython.core.display.Javascript object>"
      ]
     },
     "metadata": {},
     "output_type": "display_data"
    },
    {
     "data": {
      "text/markdown": [
       "<span style=\"color:#33cc33\">Correct</span>"
      ],
      "text/plain": [
       "Correct"
      ]
     },
     "metadata": {},
     "output_type": "display_data"
    }
   ],
   "source": [
    "\n",
    "\n",
    "# Define the model\n",
    "my_model_3 = XGBRegressor(n_estimators=1)\n",
    "\n",
    "# Fit the model\n",
    "my_model_3.fit(X_train, y_train)\n",
    "\n",
    "# Get predictions\n",
    "predictions_3 = my_model_3.predict(X_valid)\n",
    "\n",
    "# Calculate MAE\n",
    "mae_3 = mean_absolute_error(predictions_3, y_valid)\n",
    "print(\"Mean Absolute Error:\" , mae_3)\n",
    "\n",
    "# Check your answer\n",
    "step_3.check()"
   ]
  },
  {
   "cell_type": "code",
   "execution_count": 12,
   "id": "3af964b1",
   "metadata": {
    "execution": {
     "iopub.execute_input": "2022-07-02T17:41:05.299937Z",
     "iopub.status.busy": "2022-07-02T17:41:05.298920Z",
     "iopub.status.idle": "2022-07-02T17:41:05.303961Z",
     "shell.execute_reply": "2022-07-02T17:41:05.302874Z"
    },
    "papermill": {
     "duration": 0.013973,
     "end_time": "2022-07-02T17:41:05.306198",
     "exception": false,
     "start_time": "2022-07-02T17:41:05.292225",
     "status": "completed"
    },
    "tags": []
   },
   "outputs": [],
   "source": [
    "# Lines below will give you a hint or solution code\n",
    "#step_3.hint()\n",
    "#step_3.solution()"
   ]
  },
  {
   "cell_type": "markdown",
   "id": "b6cb8a7c",
   "metadata": {
    "papermill": {
     "duration": 0.005324,
     "end_time": "2022-07-02T17:41:05.317206",
     "exception": false,
     "start_time": "2022-07-02T17:41:05.311882",
     "status": "completed"
    },
    "tags": []
   },
   "source": [
    "# Keep going\n",
    "\n",
    "Continue to learn about **[data leakage](https://www.kaggle.com/alexisbcook/data-leakage)**.  This is an important issue for a data scientist to understand, and it has the potential to ruin your models in subtle and dangerous ways!"
   ]
  },
  {
   "cell_type": "markdown",
   "id": "dd26cbba",
   "metadata": {
    "papermill": {
     "duration": 0.005158,
     "end_time": "2022-07-02T17:41:05.327806",
     "exception": false,
     "start_time": "2022-07-02T17:41:05.322648",
     "status": "completed"
    },
    "tags": []
   },
   "source": [
    "---\n",
    "\n",
    "\n",
    "\n",
    "\n",
    "*Have questions or comments? Visit the [course discussion forum](https://www.kaggle.com/learn/intermediate-machine-learning/discussion) to chat with other learners.*"
   ]
  },
  {
   "cell_type": "code",
   "execution_count": null,
   "id": "6cb7686b",
   "metadata": {
    "papermill": {
     "duration": 0.005381,
     "end_time": "2022-07-02T17:41:05.338762",
     "exception": false,
     "start_time": "2022-07-02T17:41:05.333381",
     "status": "completed"
    },
    "tags": []
   },
   "outputs": [],
   "source": []
  }
 ],
 "metadata": {
  "kernelspec": {
   "display_name": "Python 3",
   "language": "python",
   "name": "python3"
  },
  "language_info": {
   "codemirror_mode": {
    "name": "ipython",
    "version": 3
   },
   "file_extension": ".py",
   "mimetype": "text/x-python",
   "name": "python",
   "nbconvert_exporter": "python",
   "pygments_lexer": "ipython3",
   "version": "3.7.12"
  },
  "papermill": {
   "default_parameters": {},
   "duration": 22.168612,
   "end_time": "2022-07-02T17:41:06.066184",
   "environment_variables": {},
   "exception": null,
   "input_path": "__notebook__.ipynb",
   "output_path": "__notebook__.ipynb",
   "parameters": {},
   "start_time": "2022-07-02T17:40:43.897572",
   "version": "2.3.4"
  }
 },
 "nbformat": 4,
 "nbformat_minor": 5
}
