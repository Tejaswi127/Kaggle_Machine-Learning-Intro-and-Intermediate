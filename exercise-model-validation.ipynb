{
 "cells": [
  {
   "cell_type": "markdown",
   "id": "3a469e36",
   "metadata": {
    "papermill": {
     "duration": 0.006223,
     "end_time": "2022-07-02T10:05:38.006367",
     "exception": false,
     "start_time": "2022-07-02T10:05:38.000144",
     "status": "completed"
    },
    "tags": []
   },
   "source": [
    "**This notebook is an exercise in the [Introduction to Machine Learning](https://www.kaggle.com/learn/intro-to-machine-learning) course.  You can reference the tutorial at [this link](https://www.kaggle.com/dansbecker/model-validation).**\n",
    "\n",
    "---\n"
   ]
  },
  {
   "cell_type": "markdown",
   "id": "6bb9a3e6",
   "metadata": {
    "papermill": {
     "duration": 0.004812,
     "end_time": "2022-07-02T10:05:38.016750",
     "exception": false,
     "start_time": "2022-07-02T10:05:38.011938",
     "status": "completed"
    },
    "tags": []
   },
   "source": [
    "## Recap\n",
    "You've built a model. In this exercise you will test how good your model is.\n",
    "\n",
    "Run the cell below to set up your coding environment where the previous exercise left off."
   ]
  },
  {
   "cell_type": "code",
   "execution_count": 1,
   "id": "02bad733",
   "metadata": {
    "execution": {
     "iopub.execute_input": "2022-07-02T10:05:38.031821Z",
     "iopub.status.busy": "2022-07-02T10:05:38.031194Z",
     "iopub.status.idle": "2022-07-02T10:05:39.395770Z",
     "shell.execute_reply": "2022-07-02T10:05:39.394539Z"
    },
    "papermill": {
     "duration": 1.376941,
     "end_time": "2022-07-02T10:05:39.398695",
     "exception": false,
     "start_time": "2022-07-02T10:05:38.021754",
     "status": "completed"
    },
    "tags": []
   },
   "outputs": [
    {
     "name": "stdout",
     "output_type": "stream",
     "text": [
      "First in-sample predictions: [208500. 181500. 223500. 140000. 250000.]\n",
      "Actual target values for those homes: [208500, 181500, 223500, 140000, 250000]\n",
      "Setup Complete\n"
     ]
    }
   ],
   "source": [
    "# Code you have previously used to load data\n",
    "import pandas as pd\n",
    "from sklearn.tree import DecisionTreeRegressor\n",
    "\n",
    "# Path of the file to read\n",
    "iowa_file_path = '../input/home-data-for-ml-course/train.csv'\n",
    "\n",
    "home_data = pd.read_csv(iowa_file_path)\n",
    "y = home_data.SalePrice\n",
    "feature_columns = ['LotArea', 'YearBuilt', '1stFlrSF', '2ndFlrSF', 'FullBath', 'BedroomAbvGr', 'TotRmsAbvGrd']\n",
    "X = home_data[feature_columns]\n",
    "\n",
    "# Specify Model\n",
    "iowa_model = DecisionTreeRegressor()\n",
    "# Fit Model\n",
    "iowa_model.fit(X, y)\n",
    "\n",
    "print(\"First in-sample predictions:\", iowa_model.predict(X.head()))\n",
    "print(\"Actual target values for those homes:\", y.head().tolist())\n",
    "\n",
    "# Set up code checking\n",
    "from learntools.core import binder\n",
    "binder.bind(globals())\n",
    "from learntools.machine_learning.ex4 import *\n",
    "print(\"Setup Complete\")"
   ]
  },
  {
   "cell_type": "markdown",
   "id": "0cdd7dc0",
   "metadata": {
    "papermill": {
     "duration": 0.004732,
     "end_time": "2022-07-02T10:05:39.408951",
     "exception": false,
     "start_time": "2022-07-02T10:05:39.404219",
     "status": "completed"
    },
    "tags": []
   },
   "source": [
    "# Exercises\n",
    "\n",
    "## Step 1: Split Your Data\n",
    "Use the `train_test_split` function to split up your data.\n",
    "\n",
    "Give it the argument `random_state=1` so the `check` functions know what to expect when verifying your code.\n",
    "\n",
    "Recall, your features are loaded in the DataFrame **X** and your target is loaded in **y**.\n"
   ]
  },
  {
   "cell_type": "code",
   "execution_count": 2,
   "id": "2233a145",
   "metadata": {
    "execution": {
     "iopub.execute_input": "2022-07-02T10:05:39.421446Z",
     "iopub.status.busy": "2022-07-02T10:05:39.420254Z",
     "iopub.status.idle": "2022-07-02T10:05:39.437064Z",
     "shell.execute_reply": "2022-07-02T10:05:39.435784Z"
    },
    "papermill": {
     "duration": 0.025433,
     "end_time": "2022-07-02T10:05:39.439415",
     "exception": false,
     "start_time": "2022-07-02T10:05:39.413982",
     "status": "completed"
    },
    "tags": []
   },
   "outputs": [
    {
     "data": {
      "application/javascript": [
       "parent.postMessage({\"jupyterEvent\": \"custom.exercise_interaction\", \"data\": {\"outcomeType\": 1, \"valueTowardsCompletion\": 0.25, \"interactionType\": 1, \"questionType\": 2, \"questionId\": \"1_SplitData\", \"learnToolsVersion\": \"0.3.4\", \"failureMessage\": \"\", \"exceptionClass\": \"\", \"trace\": \"\"}}, \"*\")"
      ],
      "text/plain": [
       "<IPython.core.display.Javascript object>"
      ]
     },
     "metadata": {},
     "output_type": "display_data"
    },
    {
     "data": {
      "text/markdown": [
       "<span style=\"color:#33cc33\">Correct</span>"
      ],
      "text/plain": [
       "Correct"
      ]
     },
     "metadata": {},
     "output_type": "display_data"
    }
   ],
   "source": [
    "# Import the train_test_split function and uncomment\n",
    "from sklearn.model_selection import train_test_split\n",
    "\n",
    "# fill in and uncomment\n",
    "train_X, val_X, train_y, val_y = train_test_split(X,y,random_state=1)\n",
    "\n",
    "# Check your answer\n",
    "step_1.check()"
   ]
  },
  {
   "cell_type": "code",
   "execution_count": 3,
   "id": "1b604154",
   "metadata": {
    "execution": {
     "iopub.execute_input": "2022-07-02T10:05:39.453197Z",
     "iopub.status.busy": "2022-07-02T10:05:39.452368Z",
     "iopub.status.idle": "2022-07-02T10:05:39.457479Z",
     "shell.execute_reply": "2022-07-02T10:05:39.456429Z"
    },
    "papermill": {
     "duration": 0.014274,
     "end_time": "2022-07-02T10:05:39.459642",
     "exception": false,
     "start_time": "2022-07-02T10:05:39.445368",
     "status": "completed"
    },
    "tags": []
   },
   "outputs": [],
   "source": [
    "# The lines below will show you a hint or the solution.\n",
    "# step_1.hint() \n",
    "# step_1.solution()\n"
   ]
  },
  {
   "cell_type": "markdown",
   "id": "f7719311",
   "metadata": {
    "papermill": {
     "duration": 0.005285,
     "end_time": "2022-07-02T10:05:39.470303",
     "exception": false,
     "start_time": "2022-07-02T10:05:39.465018",
     "status": "completed"
    },
    "tags": []
   },
   "source": [
    "## Step 2: Specify and Fit the Model\n",
    "\n",
    "Create a `DecisionTreeRegressor` model and fit it to the relevant data.\n",
    "Set `random_state` to 1 again when creating the model."
   ]
  },
  {
   "cell_type": "code",
   "execution_count": 4,
   "id": "30b77e5e",
   "metadata": {
    "execution": {
     "iopub.execute_input": "2022-07-02T10:05:39.483337Z",
     "iopub.status.busy": "2022-07-02T10:05:39.482691Z",
     "iopub.status.idle": "2022-07-02T10:05:39.509492Z",
     "shell.execute_reply": "2022-07-02T10:05:39.508124Z"
    },
    "papermill": {
     "duration": 0.037181,
     "end_time": "2022-07-02T10:05:39.512794",
     "exception": false,
     "start_time": "2022-07-02T10:05:39.475613",
     "status": "completed"
    },
    "tags": []
   },
   "outputs": [
    {
     "name": "stdout",
     "output_type": "stream",
     "text": [
      "[186500. 184000. 130000.  92000. 164500. 220000. 335000. 144152. 215000.\n",
      " 262000.]\n",
      "[186500. 184000. 130000.  92000. 164500. 220000. 335000. 144152. 215000.\n",
      " 262000.]\n"
     ]
    },
    {
     "data": {
      "application/javascript": [
       "parent.postMessage({\"jupyterEvent\": \"custom.exercise_interaction\", \"data\": {\"outcomeType\": 1, \"valueTowardsCompletion\": 0.25, \"interactionType\": 1, \"questionType\": 2, \"questionId\": \"2_FitModelWithTrain\", \"learnToolsVersion\": \"0.3.4\", \"failureMessage\": \"\", \"exceptionClass\": \"\", \"trace\": \"\"}}, \"*\")"
      ],
      "text/plain": [
       "<IPython.core.display.Javascript object>"
      ]
     },
     "metadata": {},
     "output_type": "display_data"
    },
    {
     "data": {
      "text/markdown": [
       "<span style=\"color:#33cc33\">Correct</span>"
      ],
      "text/plain": [
       "Correct"
      ]
     },
     "metadata": {},
     "output_type": "display_data"
    }
   ],
   "source": [
    "# You imported DecisionTreeRegressor in your last exercise\n",
    "# and that code has been copied to the setup code above. So, no need to\n",
    "# import it again\n",
    "\n",
    "# Specify the model\n",
    "iowa_model = DecisionTreeRegressor(random_state=1)\n",
    "\n",
    "# Fit iowa_model with the training data.\n",
    "iowa_model.fit(train_X,train_y)\n",
    "\n",
    "# Check your answer\n",
    "step_2.check()"
   ]
  },
  {
   "cell_type": "code",
   "execution_count": 5,
   "id": "f2710272",
   "metadata": {
    "execution": {
     "iopub.execute_input": "2022-07-02T10:05:39.526078Z",
     "iopub.status.busy": "2022-07-02T10:05:39.525654Z",
     "iopub.status.idle": "2022-07-02T10:05:39.529963Z",
     "shell.execute_reply": "2022-07-02T10:05:39.528889Z"
    },
    "papermill": {
     "duration": 0.013543,
     "end_time": "2022-07-02T10:05:39.532120",
     "exception": false,
     "start_time": "2022-07-02T10:05:39.518577",
     "status": "completed"
    },
    "tags": []
   },
   "outputs": [],
   "source": [
    "# step_2.hint()\n",
    "# step_2.solution()"
   ]
  },
  {
   "cell_type": "markdown",
   "id": "fc789108",
   "metadata": {
    "papermill": {
     "duration": 0.005204,
     "end_time": "2022-07-02T10:05:39.542868",
     "exception": false,
     "start_time": "2022-07-02T10:05:39.537664",
     "status": "completed"
    },
    "tags": []
   },
   "source": [
    "## Step 3: Make Predictions with Validation data\n"
   ]
  },
  {
   "cell_type": "code",
   "execution_count": 6,
   "id": "c6391eda",
   "metadata": {
    "execution": {
     "iopub.execute_input": "2022-07-02T10:05:39.555932Z",
     "iopub.status.busy": "2022-07-02T10:05:39.555491Z",
     "iopub.status.idle": "2022-07-02T10:05:39.570062Z",
     "shell.execute_reply": "2022-07-02T10:05:39.568985Z"
    },
    "papermill": {
     "duration": 0.023922,
     "end_time": "2022-07-02T10:05:39.572326",
     "exception": false,
     "start_time": "2022-07-02T10:05:39.548404",
     "status": "completed"
    },
    "tags": []
   },
   "outputs": [
    {
     "data": {
      "application/javascript": [
       "parent.postMessage({\"jupyterEvent\": \"custom.exercise_interaction\", \"data\": {\"outcomeType\": 1, \"valueTowardsCompletion\": 0.25, \"interactionType\": 1, \"questionType\": 2, \"questionId\": \"3_ValPreds\", \"learnToolsVersion\": \"0.3.4\", \"failureMessage\": \"\", \"exceptionClass\": \"\", \"trace\": \"\"}}, \"*\")"
      ],
      "text/plain": [
       "<IPython.core.display.Javascript object>"
      ]
     },
     "metadata": {},
     "output_type": "display_data"
    },
    {
     "data": {
      "text/markdown": [
       "<span style=\"color:#33cc33\">Correct</span>"
      ],
      "text/plain": [
       "Correct"
      ]
     },
     "metadata": {},
     "output_type": "display_data"
    }
   ],
   "source": [
    "# Predict with all validation observations\n",
    "val_predictions = iowa_model.predict(val_X)\n",
    "\n",
    "# Check your answer\n",
    "step_3.check()"
   ]
  },
  {
   "cell_type": "code",
   "execution_count": 7,
   "id": "71a518a8",
   "metadata": {
    "execution": {
     "iopub.execute_input": "2022-07-02T10:05:39.587096Z",
     "iopub.status.busy": "2022-07-02T10:05:39.585945Z",
     "iopub.status.idle": "2022-07-02T10:05:39.590358Z",
     "shell.execute_reply": "2022-07-02T10:05:39.589467Z"
    },
    "papermill": {
     "duration": 0.01375,
     "end_time": "2022-07-02T10:05:39.592319",
     "exception": false,
     "start_time": "2022-07-02T10:05:39.578569",
     "status": "completed"
    },
    "tags": []
   },
   "outputs": [],
   "source": [
    "# step_3.hint()\n",
    "# step_3.solution()"
   ]
  },
  {
   "cell_type": "markdown",
   "id": "283c67c0",
   "metadata": {
    "papermill": {
     "duration": 0.00576,
     "end_time": "2022-07-02T10:05:39.604017",
     "exception": false,
     "start_time": "2022-07-02T10:05:39.598257",
     "status": "completed"
    },
    "tags": []
   },
   "source": [
    "Inspect your predictions and actual values from validation data."
   ]
  },
  {
   "cell_type": "code",
   "execution_count": 8,
   "id": "7dcba25d",
   "metadata": {
    "execution": {
     "iopub.execute_input": "2022-07-02T10:05:39.618016Z",
     "iopub.status.busy": "2022-07-02T10:05:39.617341Z",
     "iopub.status.idle": "2022-07-02T10:05:39.622938Z",
     "shell.execute_reply": "2022-07-02T10:05:39.621323Z"
    },
    "papermill": {
     "duration": 0.016194,
     "end_time": "2022-07-02T10:05:39.626060",
     "exception": false,
     "start_time": "2022-07-02T10:05:39.609866",
     "status": "completed"
    },
    "tags": []
   },
   "outputs": [
    {
     "name": "stdout",
     "output_type": "stream",
     "text": [
      "<learntools.core.constants.PlaceholderValue object at 0x7f9503266490>\n",
      "<learntools.core.constants.PlaceholderValue object at 0x7f9503266490>\n"
     ]
    }
   ],
   "source": [
    "# print the top few validation predictions\n",
    "print(____)\n",
    "# print the top few actual prices from validation data\n",
    "print(____)"
   ]
  },
  {
   "cell_type": "markdown",
   "id": "e08fd864",
   "metadata": {
    "papermill": {
     "duration": 0.005816,
     "end_time": "2022-07-02T10:05:39.638242",
     "exception": false,
     "start_time": "2022-07-02T10:05:39.632426",
     "status": "completed"
    },
    "tags": []
   },
   "source": [
    "What do you notice that is different from what you saw with in-sample predictions (which are printed after the top code cell in this page).\n",
    "\n",
    "Do you remember why validation predictions differ from in-sample (or training) predictions? This is an important idea from the last lesson.\n",
    "\n",
    "## Step 4: Calculate the Mean Absolute Error in Validation Data\n"
   ]
  },
  {
   "cell_type": "code",
   "execution_count": 9,
   "id": "5daf7f4a",
   "metadata": {
    "execution": {
     "iopub.execute_input": "2022-07-02T10:05:39.652615Z",
     "iopub.status.busy": "2022-07-02T10:05:39.651427Z",
     "iopub.status.idle": "2022-07-02T10:05:39.665135Z",
     "shell.execute_reply": "2022-07-02T10:05:39.663495Z"
    },
    "papermill": {
     "duration": 0.023635,
     "end_time": "2022-07-02T10:05:39.667719",
     "exception": false,
     "start_time": "2022-07-02T10:05:39.644084",
     "status": "completed"
    },
    "tags": []
   },
   "outputs": [
    {
     "name": "stdout",
     "output_type": "stream",
     "text": [
      "29652.931506849316\n"
     ]
    },
    {
     "data": {
      "application/javascript": [
       "parent.postMessage({\"jupyterEvent\": \"custom.exercise_interaction\", \"data\": {\"outcomeType\": 1, \"valueTowardsCompletion\": 0.25, \"interactionType\": 1, \"questionType\": 1, \"questionId\": \"4_MAE\", \"learnToolsVersion\": \"0.3.4\", \"failureMessage\": \"\", \"exceptionClass\": \"\", \"trace\": \"\"}}, \"*\")"
      ],
      "text/plain": [
       "<IPython.core.display.Javascript object>"
      ]
     },
     "metadata": {},
     "output_type": "display_data"
    },
    {
     "data": {
      "text/markdown": [
       "<span style=\"color:#33cc33\">Correct</span>"
      ],
      "text/plain": [
       "Correct"
      ]
     },
     "metadata": {},
     "output_type": "display_data"
    }
   ],
   "source": [
    "from sklearn.metrics import mean_absolute_error\n",
    "val_mae = mean_absolute_error(val_y, val_predictions)\n",
    "\n",
    "# uncomment following line to see the validation_mae\n",
    "print(val_mae)\n",
    "\n",
    "# Check your answer\n",
    "step_4.check()"
   ]
  },
  {
   "cell_type": "code",
   "execution_count": 10,
   "id": "e938fb77",
   "metadata": {
    "execution": {
     "iopub.execute_input": "2022-07-02T10:05:39.682823Z",
     "iopub.status.busy": "2022-07-02T10:05:39.682363Z",
     "iopub.status.idle": "2022-07-02T10:05:39.687282Z",
     "shell.execute_reply": "2022-07-02T10:05:39.686017Z"
    },
    "papermill": {
     "duration": 0.015312,
     "end_time": "2022-07-02T10:05:39.689588",
     "exception": false,
     "start_time": "2022-07-02T10:05:39.674276",
     "status": "completed"
    },
    "tags": []
   },
   "outputs": [],
   "source": [
    "# step_4.hint()\n",
    "# step_4.solution()"
   ]
  },
  {
   "cell_type": "markdown",
   "id": "3d89f4ab",
   "metadata": {
    "papermill": {
     "duration": 0.006314,
     "end_time": "2022-07-02T10:05:39.702652",
     "exception": false,
     "start_time": "2022-07-02T10:05:39.696338",
     "status": "completed"
    },
    "tags": []
   },
   "source": [
    "Is that MAE good?  There isn't a general rule for what values are good that applies across applications. But you'll see how to use (and improve) this number in the next step.\n",
    "\n",
    "# Keep Going\n",
    "\n",
    "You are ready for **[Underfitting and Overfitting](https://www.kaggle.com/dansbecker/underfitting-and-overfitting).**\n"
   ]
  },
  {
   "cell_type": "markdown",
   "id": "c84e7e47",
   "metadata": {
    "papermill": {
     "duration": 0.006311,
     "end_time": "2022-07-02T10:05:39.715464",
     "exception": false,
     "start_time": "2022-07-02T10:05:39.709153",
     "status": "completed"
    },
    "tags": []
   },
   "source": [
    "---\n",
    "\n",
    "\n",
    "\n",
    "\n",
    "*Have questions or comments? Visit the [course discussion forum](https://www.kaggle.com/learn/intro-to-machine-learning/discussion) to chat with other learners.*"
   ]
  }
 ],
 "metadata": {
  "kernelspec": {
   "display_name": "Python 3",
   "language": "python",
   "name": "python3"
  },
  "language_info": {
   "codemirror_mode": {
    "name": "ipython",
    "version": 3
   },
   "file_extension": ".py",
   "mimetype": "text/x-python",
   "name": "python",
   "nbconvert_exporter": "python",
   "pygments_lexer": "ipython3",
   "version": "3.7.12"
  },
  "papermill": {
   "default_parameters": {},
   "duration": 12.613002,
   "end_time": "2022-07-02T10:05:40.645533",
   "environment_variables": {},
   "exception": null,
   "input_path": "__notebook__.ipynb",
   "output_path": "__notebook__.ipynb",
   "parameters": {},
   "start_time": "2022-07-02T10:05:28.032531",
   "version": "2.3.4"
  }
 },
 "nbformat": 4,
 "nbformat_minor": 5
}
